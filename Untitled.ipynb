{
 "cells": [
  {
   "cell_type": "code",
   "execution_count": 1,
   "metadata": {},
   "outputs": [],
   "source": [
    "a = list()"
   ]
  },
  {
   "cell_type": "code",
   "execution_count": 3,
   "metadata": {},
   "outputs": [],
   "source": [
    "# Create grid \n",
    "# Create x ants and place each ant at random place on a grid \n",
    "# Place all elements on the grid randomly (one cell can contain more than 1 element)\n",
    "# Step 1\n",
    "# For each ant go to next random cell\n",
    "# If ant is carrying an element:\n",
    "    # Calculate similarity of element to the surrounding elements \n",
    "    # If similarity > x, drop element\n",
    "# If ant is not carrying element and in the cell there is element:\n",
    "    # Calculate similarity of element to the surrounding elements \n",
    "    # If similarity < x, pick up element\n",
    "# Go to next step"
   ]
  },
  {
   "cell_type": "code",
   "execution_count": 4,
   "metadata": {},
   "outputs": [],
   "source": [
    "class Ant:\n",
    "    def __init__(self, grid):\n",
    "        self.grid = grid\n",
    "    def update_grid(self):\n",
    "        self.grid = 3"
   ]
  },
  {
   "cell_type": "code",
   "execution_count": 5,
   "metadata": {},
   "outputs": [],
   "source": [
    "class Grid:\n",
    "    def __init__(self):\n",
    "        self.a = 10"
   ]
  },
  {
   "cell_type": "code",
   "execution_count": 6,
   "metadata": {},
   "outputs": [
    {
     "name": "stdout",
     "output_type": "stream",
     "text": [
      "10\n",
      "10\n"
     ]
    }
   ],
   "source": [
    "g = Grid()\n",
    "print(g.a)\n",
    "a = Ant(g)\n",
    "a.update_grid()\n",
    "print(g.a)"
   ]
  },
  {
   "cell_type": "code",
   "execution_count": 1,
   "metadata": {},
   "outputs": [],
   "source": [
    "import os\n",
    "import math\n",
    "import time\n",
    "import numpy\n",
    "import pandas\n",
    "import random\n",
    "import matplotlib\n",
    "import numpy.random as nrand\n",
    "import matplotlib.pylab as plt\n",
    "from sklearn.preprocessing import normalize"
   ]
  },
  {
   "cell_type": "code",
   "execution_count": 2,
   "metadata": {},
   "outputs": [],
   "source": [
    "class AntColonyOptimization:\n",
    "    def __init__(self):\n",
    "        pass"
   ]
  },
  {
   "cell_type": "code",
   "execution_count": 3,
   "metadata": {},
   "outputs": [],
   "source": [
    "class Grid:\n",
    "    def __init__(self, height, width, path, rand_test=True):\n",
    "        \"\"\"\n",
    "        This method initializes a grid object. A grid is basically just a 2D array of Datum objects\n",
    "        :param height: this is the height of the grid\n",
    "        :param width: this is the weight of the grid\n",
    "        \"\"\"\n",
    "        self.path = path\n",
    "        # Store the dimensions of the grid\n",
    "        self.dim = numpy.array([height, width])\n",
    "        # Initialize an empty numpy matrix of type Datum\n",
    "        self.grid = numpy.empty((height, width), dtype=Datum)\n",
    "        if rand_test:\n",
    "            # This is used to fill the grid randomly\n",
    "            self.rand_grid(0.25)\n",
    "        # This makes the plot redraw\n",
    "        plt.ion()\n",
    "        plt.figure(figsize=(10, 10))\n",
    "        self.max_d = 0.001\n",
    "\n",
    "    def rand_grid(self, sparse):\n",
    "        \"\"\"\n",
    "        A method for randomly initializing the grid\n",
    "        :param sparse: the percentage of the grid to fill up\n",
    "        \"\"\"\n",
    "        for y in range(self.dim[0]):\n",
    "            for x in range(self.dim[1]):\n",
    "                if random.random() <= sparse:\n",
    "                    r = random.randint(0, 1)\n",
    "                    if r == 0:\n",
    "                        self.grid[y][x] = Datum(nrand.normal(5, 0.25, 10))\n",
    "                    elif r == 1:\n",
    "                        self.grid[y][x] = Datum(nrand.normal(-5, 0.25, 10))\n",
    "    \n",
    "    def initialize_with_datums(self, datums):\n",
    "        \n",
    "        for datum in datums:\n",
    "            coord_0 = numpy.random.choice(self.dim[0])\n",
    "            coord_1 = numpy.random.choice(self.dim[1])\n",
    "            while True:\n",
    "                if self.grid[coord_0][coord_1] is None:\n",
    "                    self.grid[coord_0][coord_1] = datum\n",
    "                    break\n",
    "                else:\n",
    "                    coord_0 = numpy.random.choice(self.dim[0])\n",
    "                    coord_1 = numpy.random.choice(self.dim[1])\n",
    "            \n",
    "\n",
    "    def matrix_grid(self):\n",
    "        \"\"\"\n",
    "        This method condenses the grid (2D array of Datum objects) to a matrix which can be visualized\n",
    "        :return: matrix of the grid\n",
    "        \"\"\"\n",
    "        matrix = numpy.empty((self.dim[0], self.dim[1]))\n",
    "        matrix.fill(0)\n",
    "        for y in range(self.dim[0]):\n",
    "            for x in range(self.dim[1]):\n",
    "                if self.grid[y][x] is not None:\n",
    "                    matrix[y][x] = self.get_grid()[y][x].condense()\n",
    "        return matrix\n",
    "\n",
    "    def plot_grid(self, name=\"\", save_figure=True):\n",
    "        \"\"\"\n",
    "        This plots the 2D representation of the grid\n",
    "        :param name: the name of the image to save\n",
    "        :return:\n",
    "        \"\"\"\n",
    "        plt.matshow(self.matrix_grid(), cmap=\"RdBu\", fignum=0)\n",
    "        # Option to save images\n",
    "        if save_figure:\n",
    "            plt.savefig(self.path + name + '.png')\n",
    "        # plt.draw()\n",
    "\n",
    "    def get_grid(self):\n",
    "        return self.grid\n",
    "\n",
    "    def get_probability(self, d, y, x, n, c):\n",
    "        \"\"\"\n",
    "        This gets the probability of drop / pickup for any given Datum, d\n",
    "        :param d: the datum\n",
    "        :param x: the x location of the datum / ant carrying datum\n",
    "        :param y: the y location of the datum / ant carrying datum\n",
    "        :param n: the size of the neighbourhood function\n",
    "        :param c: constant for convergence control\n",
    "        :return: the probability of\n",
    "        \"\"\"\n",
    "        # Starting x and y locations\n",
    "        y_s = y - n\n",
    "        x_s = x - n\n",
    "        total = 0.0\n",
    "        # For each neighbour\n",
    "        for i in range((n*2)+1):\n",
    "            xi = (x_s + i) % self.dim[0]\n",
    "            for j in range((n*2)+1):\n",
    "                # If we are looking at a neighbour\n",
    "                if j != x and i != y:\n",
    "                    yj = (y_s + j) % self.dim[1]\n",
    "                    # Get the neighbour, o\n",
    "                    o = self.grid[xi][yj]\n",
    "                    # Get the similarity of o to x\n",
    "                    if o is not None:\n",
    "                        s = d.similarity(o)\n",
    "                        total += s\n",
    "        # Normalize the density by the max seen distance to date\n",
    "        md = total / (math.pow((n*2)+1, 2) - 1)\n",
    "        if md > self.max_d:\n",
    "            self.max_d = md\n",
    "        density = total / (self.max_d * (math.pow((n*2)+1, 2) - 1))\n",
    "        density = max(min(density, 1), 0)\n",
    "        t = math.exp(-c * density)\n",
    "        probability = (1-t)/(1+t)\n",
    "        return probability"
   ]
  },
  {
   "cell_type": "code",
   "execution_count": 8,
   "metadata": {},
   "outputs": [
    {
     "name": "stdout",
     "output_type": "stream",
     "text": [
      "(10, 10)\n"
     ]
    },
    {
     "data": {
      "image/png": "[encoded data removed]",
      "text/plain": [
       "<Figure size 720x720 with 1 Axes>"
      ]
     },
     "metadata": {
      "needs_background": "light"
     },
     "output_type": "display_data"
    }
   ],
   "source": [
    "a = Grid(height = 10, width=10, path = '', rand_test = False)\n",
    "datums_list = [Datum([10,15]), Datum([-10,-15])]\n",
    "a.initialize_with_datums(datums_list)\n",
    "print(a.grid.shape)\n",
    "a.plot_grid(save_figure = False)"
   ]
  },
  {
   "cell_type": "code",
   "execution_count": 50,
   "metadata": {},
   "outputs": [
    {
     "name": "stdout",
     "output_type": "stream",
     "text": [
      "(10, 10)\n"
     ]
    },
    {
     "data": {
      "image/png": "[encoded data removed]",
      "text/plain": [
       "<Figure size 720x720 with 1 Axes>"
      ]
     },
     "metadata": {
      "needs_background": "light"
     },
     "output_type": "display_data"
    }
   ],
   "source": [
    "a = Grid(height = 10, width=10, path = '', rand_test = True)\n",
    "print(a.grid.shape)\n",
    "a.plot_grid(save_figure = False)"
   ]
  },
  {
   "cell_type": "code",
   "execution_count": 45,
   "metadata": {},
   "outputs": [
    {
     "data": {
      "text/plain": [
       "3"
      ]
     },
     "execution_count": 45,
     "metadata": {},
     "output_type": "execute_result"
    }
   ],
   "source": [
    "numpy.random.choice(10)"
   ]
  },
  {
   "cell_type": "code",
   "execution_count": 46,
   "metadata": {},
   "outputs": [
    {
     "data": {
      "text/plain": [
       "10"
      ]
     },
     "execution_count": 46,
     "metadata": {},
     "output_type": "execute_result"
    }
   ],
   "source": [
    "a.dim"
   ]
  },
  {
   "cell_type": "code",
   "execution_count": 5,
   "metadata": {},
   "outputs": [],
   "source": [
    "class Ant:\n",
    "    def __init__(self, y, x, grid):\n",
    "        \"\"\"\n",
    "        This initializes an ant object. This Ant class is just a dumb ant with no memory\n",
    "        :param y: the y location it is initialized to\n",
    "        :param x: the x location it is initialized to\n",
    "        :param grid: a reference to the grid\n",
    "        \"\"\"\n",
    "        self.loc = numpy.array([y, x])\n",
    "        self.carrying = grid.get_grid()[y][x]\n",
    "        self.grid = grid\n",
    "\n",
    "    def move(self, n, c):\n",
    "        \"\"\"\n",
    "        A recursive function for making ants move around the grid\n",
    "        :param step_size: the size of each step\n",
    "        \"\"\"\n",
    "        step_size = random.randint(1, 25)\n",
    "        # Add some vector (-1,+1) * step_size to the ants location\n",
    "        self.loc += nrand.randint(-1 * step_size, 1 * step_size, 2)\n",
    "        # Mod the new location by the grid size to prevent overflow\n",
    "        self.loc = numpy.mod(self.loc, self.grid.dim)\n",
    "        # Get the object at that location on the grid\n",
    "        o = self.grid.get_grid()[self.loc[0]][self.loc[1]]\n",
    "        # If the cell is occupied, move again\n",
    "        if o is not None:\n",
    "            # If the ant is not carrying an object\n",
    "            if self.carrying is None:\n",
    "                # Check if the ant picks up the object\n",
    "                if self.p_pick_up(n, c) >= random.random():\n",
    "                    # Pick up the object and rem from grid\n",
    "                    self.carrying = o\n",
    "                    self.grid.get_grid()[self.loc[0]][self.loc[1]] = None\n",
    "                # If not then move\n",
    "                else:\n",
    "                    self.move(n, c)\n",
    "            # If carrying an object then just move\n",
    "            else:\n",
    "                self.move(n, c)\n",
    "        # If on an empty cell\n",
    "        else:\n",
    "            if self.carrying is not None:\n",
    "                # Check if the ant drops the object\n",
    "                if self.p_drop(n, c) >= random.random():\n",
    "                    # Drop the object at the empty location\n",
    "                    self.grid.get_grid()[self.loc[0]][self.loc[1]] = self.carrying\n",
    "                    self.carrying = None\n",
    "\n",
    "    def p_pick_up(self, n, c):\n",
    "        \"\"\"\n",
    "        Returns the probability of picking up an object\n",
    "        :param n: the neighbourhood size\n",
    "        :return: probability of picking up\n",
    "        \"\"\"\n",
    "        ant = self.grid.get_grid()[self.loc[0]][self.loc[1]]\n",
    "        return 1 - self.grid.get_probability(ant, self.loc[0], self.loc[1], n, c)\n",
    "\n",
    "    def p_drop(self, n, c):\n",
    "        \"\"\"\n",
    "        Returns the probability of dropping an object\n",
    "        :return: probability of dropping\n",
    "        \"\"\"\n",
    "        ant = self.carrying\n",
    "        return self.grid.get_probability(ant, self.loc[0], self.loc[1], n, c)"
   ]
  },
  {
   "cell_type": "code",
   "execution_count": 6,
   "metadata": {},
   "outputs": [],
   "source": [
    "class Datum:\n",
    "    def __init__(self, data):\n",
    "        \"\"\"\n",
    "        A Datum object is basically just a ND vector\n",
    "        :param data: the ND vector\n",
    "        \"\"\"\n",
    "        self.data = data\n",
    "\n",
    "    def similarity(self, datum):\n",
    "        \"\"\"\n",
    "        Returns the sum-squared distance between this datum and some other datum\n",
    "        :param datum: the other datum\n",
    "        :return: sum squared distance\n",
    "        \"\"\"\n",
    "        diff = numpy.abs(self.data - datum.data)\n",
    "        return numpy.sum(diff**2)\n",
    "\n",
    "    def condense(self):\n",
    "        \"\"\"\n",
    "        A method for condensing ND into 1D for visualization ... many options exist for this\n",
    "        :return: the 1D representation of the vector\n",
    "        \"\"\"\n",
    "        return numpy.mean(self.data)"
   ]
  },
  {
   "cell_type": "code",
   "execution_count": 7,
   "metadata": {},
   "outputs": [],
   "source": [
    "def optimize(height, width, ants, sims, n, c, freq=500, path=\"image\"):\n",
    "    \"\"\"\n",
    "    Main method for running the algorithm\n",
    "    \"\"\"\n",
    "    # Initialize the grid\n",
    "    grid = Grid(height, width, path)\n",
    "    # Create the ants\n",
    "    ant_agents = []\n",
    "    for i in range(ants):\n",
    "        ant = Ant(random.randint(0, height - 1), random.randint(0, width - 1), grid)\n",
    "        ant_agents.append(ant)\n",
    "    for i in range(sims):\n",
    "        for ant in ant_agents:\n",
    "            ant.move(n, c)\n",
    "        if i % freq == 0:\n",
    "            print(i)\n",
    "            s = \"img\" + str(i).zfill(6)\n",
    "            grid.plot_grid(s)"
   ]
  },
  {
   "cell_type": "markdown",
   "metadata": {},
   "source": [
    "Co jeszcze dodać?\n",
    "\n",
    "- "
   ]
  }
 ],
 "metadata": {
  "kernelspec": {
   "display_name": "Python 3",
   "language": "python",
   "name": "python3"
  },
  "language_info": {
   "codemirror_mode": {
    "name": "ipython",
    "version": 3
   },
   "file_extension": ".py",
   "mimetype": "text/x-python",
   "name": "python",
   "nbconvert_exporter": "python",
   "pygments_lexer": "ipython3",
   "version": "3.8.3"
  }
 },
 "nbformat": 4,
 "nbformat_minor": 4
}
