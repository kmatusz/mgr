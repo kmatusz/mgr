{
 "cells": [
  {
   "cell_type": "code",
   "execution_count": 1,
   "metadata": {},
   "outputs": [],
   "source": [
    "import pandas as pd\n",
    "import numpy as np\n",
    "import nltk\n",
    "import pickle"
   ]
  },
  {
   "cell_type": "code",
   "execution_count": 2,
   "metadata": {},
   "outputs": [],
   "source": [
    "from sklearn.metrics import roc_curve, auc"
   ]
  },
  {
   "cell_type": "code",
   "execution_count": 3,
   "metadata": {},
   "outputs": [],
   "source": [
    "def plot_auc(model, x_test_, y_test_):\n",
    "    probs = model.predict_proba(x_test_)\n",
    "    preds = probs[:,1]\n",
    "    fpr, tpr, threshold = roc_curve(y_test_, preds)\n",
    "    roc_auc = auc(fpr, tpr)\n",
    "\n",
    "    # method I: plt\n",
    "    import matplotlib.pyplot as plt\n",
    "    plt.title('Receiver Operating Characteristic')\n",
    "    plt.plot(fpr, tpr, label = 'AUC = %0.2f' % roc_auc)\n",
    "    plt.legend(loc = 'lower right')\n",
    "    plt.plot([0, 1], [0, 1],'r--')\n",
    "    plt.xlim([0, 1])\n",
    "    plt.ylim([0, 1])\n",
    "    plt.ylabel('True Positive Rate')\n",
    "    plt.xlabel('False Positive Rate')\n",
    "    plt.show()"
   ]
  },
  {
   "cell_type": "code",
   "execution_count": 4,
   "metadata": {},
   "outputs": [],
   "source": [
    "df1 = pd.read_csv('data/olist_order_reviews_dataset.csv')"
   ]
  },
  {
   "cell_type": "code",
   "execution_count": 5,
   "metadata": {},
   "outputs": [
    {
     "data": {
      "text/html": [
       "<div>\n",
       "<style scoped>\n",
       "    .dataframe tbody tr th:only-of-type {\n",
       "        vertical-align: middle;\n",
       "    }\n",
       "\n",
       "    .dataframe tbody tr th {\n",
       "        vertical-align: top;\n",
       "    }\n",
       "\n",
       "    .dataframe thead th {\n",
       "        text-align: right;\n",
       "    }\n",
       "</style>\n",
       "<table border=\"1\" class=\"dataframe\">\n",
       "  <thead>\n",
       "    <tr style=\"text-align: right;\">\n",
       "      <th></th>\n",
       "      <th>review_id</th>\n",
       "      <th>order_id</th>\n",
       "      <th>review_score</th>\n",
       "      <th>review_comment_title</th>\n",
       "      <th>review_comment_message</th>\n",
       "      <th>review_creation_date</th>\n",
       "      <th>review_answer_timestamp</th>\n",
       "    </tr>\n",
       "  </thead>\n",
       "  <tbody>\n",
       "    <tr>\n",
       "      <th>0</th>\n",
       "      <td>7bc2406110b926393aa56f80a40eba40</td>\n",
       "      <td>73fc7af87114b39712e6da79b0a377eb</td>\n",
       "      <td>4</td>\n",
       "      <td>NaN</td>\n",
       "      <td>NaN</td>\n",
       "      <td>2018-01-18 00:00:00</td>\n",
       "      <td>2018-01-18 21:46:59</td>\n",
       "    </tr>\n",
       "    <tr>\n",
       "      <th>1</th>\n",
       "      <td>80e641a11e56f04c1ad469d5645fdfde</td>\n",
       "      <td>a548910a1c6147796b98fdf73dbeba33</td>\n",
       "      <td>5</td>\n",
       "      <td>NaN</td>\n",
       "      <td>NaN</td>\n",
       "      <td>2018-03-10 00:00:00</td>\n",
       "      <td>2018-03-11 03:05:13</td>\n",
       "    </tr>\n",
       "    <tr>\n",
       "      <th>2</th>\n",
       "      <td>228ce5500dc1d8e020d8d1322874b6f0</td>\n",
       "      <td>f9e4b658b201a9f2ecdecbb34bed034b</td>\n",
       "      <td>5</td>\n",
       "      <td>NaN</td>\n",
       "      <td>NaN</td>\n",
       "      <td>2018-02-17 00:00:00</td>\n",
       "      <td>2018-02-18 14:36:24</td>\n",
       "    </tr>\n",
       "    <tr>\n",
       "      <th>3</th>\n",
       "      <td>e64fb393e7b32834bb789ff8bb30750e</td>\n",
       "      <td>658677c97b385a9be170737859d3511b</td>\n",
       "      <td>5</td>\n",
       "      <td>NaN</td>\n",
       "      <td>Recebi bem antes do prazo estipulado.</td>\n",
       "      <td>2017-04-21 00:00:00</td>\n",
       "      <td>2017-04-21 22:02:06</td>\n",
       "    </tr>\n",
       "    <tr>\n",
       "      <th>4</th>\n",
       "      <td>f7c4243c7fe1938f181bec41a392bdeb</td>\n",
       "      <td>8e6bfb81e283fa7e4f11123a3fb894f1</td>\n",
       "      <td>5</td>\n",
       "      <td>NaN</td>\n",
       "      <td>Parabéns lojas lannister adorei comprar pela I...</td>\n",
       "      <td>2018-03-01 00:00:00</td>\n",
       "      <td>2018-03-02 10:26:53</td>\n",
       "    </tr>\n",
       "  </tbody>\n",
       "</table>\n",
       "</div>"
      ],
      "text/plain": [
       "                          review_id                          order_id  \\\n",
       "0  7bc2406110b926393aa56f80a40eba40  73fc7af87114b39712e6da79b0a377eb   \n",
       "1  80e641a11e56f04c1ad469d5645fdfde  a548910a1c6147796b98fdf73dbeba33   \n",
       "2  228ce5500dc1d8e020d8d1322874b6f0  f9e4b658b201a9f2ecdecbb34bed034b   \n",
       "3  e64fb393e7b32834bb789ff8bb30750e  658677c97b385a9be170737859d3511b   \n",
       "4  f7c4243c7fe1938f181bec41a392bdeb  8e6bfb81e283fa7e4f11123a3fb894f1   \n",
       "\n",
       "   review_score review_comment_title  \\\n",
       "0             4                  NaN   \n",
       "1             5                  NaN   \n",
       "2             5                  NaN   \n",
       "3             5                  NaN   \n",
       "4             5                  NaN   \n",
       "\n",
       "                              review_comment_message review_creation_date  \\\n",
       "0                                                NaN  2018-01-18 00:00:00   \n",
       "1                                                NaN  2018-03-10 00:00:00   \n",
       "2                                                NaN  2018-02-17 00:00:00   \n",
       "3              Recebi bem antes do prazo estipulado.  2017-04-21 00:00:00   \n",
       "4  Parabéns lojas lannister adorei comprar pela I...  2018-03-01 00:00:00   \n",
       "\n",
       "  review_answer_timestamp  \n",
       "0     2018-01-18 21:46:59  \n",
       "1     2018-03-11 03:05:13  \n",
       "2     2018-02-18 14:36:24  \n",
       "3     2017-04-21 22:02:06  \n",
       "4     2018-03-02 10:26:53  "
      ]
     },
     "execution_count": 5,
     "metadata": {},
     "output_type": "execute_result"
    }
   ],
   "source": [
    "df1.head()"
   ]
  },
  {
   "cell_type": "markdown",
   "metadata": {},
   "source": [
    "100 000 reviews in total"
   ]
  },
  {
   "cell_type": "code",
   "execution_count": 6,
   "metadata": {},
   "outputs": [
    {
     "data": {
      "text/plain": [
       "review_id                  0.00000\n",
       "order_id                   0.00000\n",
       "review_score               0.00000\n",
       "review_comment_title       0.88285\n",
       "review_comment_message     0.58247\n",
       "review_creation_date       0.00000\n",
       "review_answer_timestamp    0.00000\n",
       "dtype: float64"
      ]
     },
     "execution_count": 6,
     "metadata": {},
     "output_type": "execute_result"
    }
   ],
   "source": [
    "df1.isna().mean()"
   ]
  },
  {
   "cell_type": "code",
   "execution_count": 7,
   "metadata": {},
   "outputs": [
    {
     "data": {
      "text/plain": [
       "review_id                      0\n",
       "order_id                       0\n",
       "review_score                   0\n",
       "review_comment_title       88285\n",
       "review_comment_message     58247\n",
       "review_creation_date           0\n",
       "review_answer_timestamp        0\n",
       "dtype: int64"
      ]
     },
     "execution_count": 7,
     "metadata": {},
     "output_type": "execute_result"
    }
   ],
   "source": [
    "df1.isna().sum()"
   ]
  },
  {
   "cell_type": "code",
   "execution_count": 8,
   "metadata": {},
   "outputs": [],
   "source": [
    "with open('data/translate_dumps.pickle', 'rb') as handle:\n",
    "    translations = pickle.load(handle)\n"
   ]
  },
  {
   "cell_type": "code",
   "execution_count": 9,
   "metadata": {},
   "outputs": [],
   "source": [
    "translations_flat = []\n",
    "for i in translations:\n",
    "    for j in i:\n",
    "        translations_flat.append(j)"
   ]
  },
  {
   "cell_type": "code",
   "execution_count": 10,
   "metadata": {},
   "outputs": [
    {
     "data": {
      "text/plain": [
       "41550"
      ]
     },
     "execution_count": 10,
     "metadata": {},
     "output_type": "execute_result"
    }
   ],
   "source": [
    "len(translations_flat)"
   ]
  },
  {
   "cell_type": "code",
   "execution_count": 11,
   "metadata": {},
   "outputs": [],
   "source": [
    "def unpack_dict(a):\n",
    "    return (a['input'], a['translatedText'])"
   ]
  },
  {
   "cell_type": "code",
   "execution_count": 12,
   "metadata": {},
   "outputs": [],
   "source": [
    "temp = [unpack_dict(i) for i in translations_flat]\n",
    "translations_to_pd = {x[0]: x[1] for x in temp}"
   ]
  },
  {
   "cell_type": "code",
   "execution_count": 13,
   "metadata": {},
   "outputs": [
    {
     "data": {
      "text/plain": [
       "36742"
      ]
     },
     "execution_count": 13,
     "metadata": {},
     "output_type": "execute_result"
    }
   ],
   "source": [
    "len(translations_to_pd.keys())"
   ]
  },
  {
   "cell_type": "code",
   "execution_count": 14,
   "metadata": {},
   "outputs": [],
   "source": [
    "df1['message_en'] = df1['review_comment_message']"
   ]
  },
  {
   "cell_type": "code",
   "execution_count": 15,
   "metadata": {},
   "outputs": [],
   "source": [
    "df1 = df1.replace({\"message_en\": translations_to_pd})"
   ]
  },
  {
   "cell_type": "code",
   "execution_count": 16,
   "metadata": {},
   "outputs": [
    {
     "data": {
      "text/html": [
       "<div>\n",
       "<style scoped>\n",
       "    .dataframe tbody tr th:only-of-type {\n",
       "        vertical-align: middle;\n",
       "    }\n",
       "\n",
       "    .dataframe tbody tr th {\n",
       "        vertical-align: top;\n",
       "    }\n",
       "\n",
       "    .dataframe thead th {\n",
       "        text-align: right;\n",
       "    }\n",
       "</style>\n",
       "<table border=\"1\" class=\"dataframe\">\n",
       "  <thead>\n",
       "    <tr style=\"text-align: right;\">\n",
       "      <th></th>\n",
       "      <th>review_id</th>\n",
       "      <th>order_id</th>\n",
       "      <th>review_score</th>\n",
       "      <th>review_comment_title</th>\n",
       "      <th>review_comment_message</th>\n",
       "      <th>review_creation_date</th>\n",
       "      <th>review_answer_timestamp</th>\n",
       "      <th>message_en</th>\n",
       "    </tr>\n",
       "  </thead>\n",
       "  <tbody>\n",
       "    <tr>\n",
       "      <th>0</th>\n",
       "      <td>7bc2406110b926393aa56f80a40eba40</td>\n",
       "      <td>73fc7af87114b39712e6da79b0a377eb</td>\n",
       "      <td>4</td>\n",
       "      <td>NaN</td>\n",
       "      <td>NaN</td>\n",
       "      <td>2018-01-18 00:00:00</td>\n",
       "      <td>2018-01-18 21:46:59</td>\n",
       "      <td>NaN</td>\n",
       "    </tr>\n",
       "    <tr>\n",
       "      <th>1</th>\n",
       "      <td>80e641a11e56f04c1ad469d5645fdfde</td>\n",
       "      <td>a548910a1c6147796b98fdf73dbeba33</td>\n",
       "      <td>5</td>\n",
       "      <td>NaN</td>\n",
       "      <td>NaN</td>\n",
       "      <td>2018-03-10 00:00:00</td>\n",
       "      <td>2018-03-11 03:05:13</td>\n",
       "      <td>NaN</td>\n",
       "    </tr>\n",
       "    <tr>\n",
       "      <th>2</th>\n",
       "      <td>228ce5500dc1d8e020d8d1322874b6f0</td>\n",
       "      <td>f9e4b658b201a9f2ecdecbb34bed034b</td>\n",
       "      <td>5</td>\n",
       "      <td>NaN</td>\n",
       "      <td>NaN</td>\n",
       "      <td>2018-02-17 00:00:00</td>\n",
       "      <td>2018-02-18 14:36:24</td>\n",
       "      <td>NaN</td>\n",
       "    </tr>\n",
       "    <tr>\n",
       "      <th>3</th>\n",
       "      <td>e64fb393e7b32834bb789ff8bb30750e</td>\n",
       "      <td>658677c97b385a9be170737859d3511b</td>\n",
       "      <td>5</td>\n",
       "      <td>NaN</td>\n",
       "      <td>Recebi bem antes do prazo estipulado.</td>\n",
       "      <td>2017-04-21 00:00:00</td>\n",
       "      <td>2017-04-21 22:02:06</td>\n",
       "      <td>I received it well before the deadline.</td>\n",
       "    </tr>\n",
       "    <tr>\n",
       "      <th>4</th>\n",
       "      <td>f7c4243c7fe1938f181bec41a392bdeb</td>\n",
       "      <td>8e6bfb81e283fa7e4f11123a3fb894f1</td>\n",
       "      <td>5</td>\n",
       "      <td>NaN</td>\n",
       "      <td>Parabéns lojas lannister adorei comprar pela I...</td>\n",
       "      <td>2018-03-01 00:00:00</td>\n",
       "      <td>2018-03-02 10:26:53</td>\n",
       "      <td>Congratulations lannister stores loved shoppin...</td>\n",
       "    </tr>\n",
       "    <tr>\n",
       "      <th>...</th>\n",
       "      <td>...</td>\n",
       "      <td>...</td>\n",
       "      <td>...</td>\n",
       "      <td>...</td>\n",
       "      <td>...</td>\n",
       "      <td>...</td>\n",
       "      <td>...</td>\n",
       "      <td>...</td>\n",
       "    </tr>\n",
       "    <tr>\n",
       "      <th>99995</th>\n",
       "      <td>f3897127253a9592a73be9bdfdf4ed7a</td>\n",
       "      <td>22ec9f0669f784db00fa86d035cf8602</td>\n",
       "      <td>5</td>\n",
       "      <td>NaN</td>\n",
       "      <td>NaN</td>\n",
       "      <td>2017-12-09 00:00:00</td>\n",
       "      <td>2017-12-11 20:06:42</td>\n",
       "      <td>NaN</td>\n",
       "    </tr>\n",
       "    <tr>\n",
       "      <th>99996</th>\n",
       "      <td>b3de70c89b1510c4cd3d0649fd302472</td>\n",
       "      <td>55d4004744368f5571d1f590031933e4</td>\n",
       "      <td>5</td>\n",
       "      <td>NaN</td>\n",
       "      <td>Excelente mochila, entrega super rápida. Super...</td>\n",
       "      <td>2018-03-22 00:00:00</td>\n",
       "      <td>2018-03-23 09:10:43</td>\n",
       "      <td>Excelente mochila, entrega super rápida. Super...</td>\n",
       "    </tr>\n",
       "    <tr>\n",
       "      <th>99997</th>\n",
       "      <td>1adeb9d84d72fe4e337617733eb85149</td>\n",
       "      <td>7725825d039fc1f0ceb7635e3f7d9206</td>\n",
       "      <td>4</td>\n",
       "      <td>NaN</td>\n",
       "      <td>NaN</td>\n",
       "      <td>2018-07-01 00:00:00</td>\n",
       "      <td>2018-07-02 12:59:13</td>\n",
       "      <td>NaN</td>\n",
       "    </tr>\n",
       "    <tr>\n",
       "      <th>99998</th>\n",
       "      <td>be360f18f5df1e0541061c87021e6d93</td>\n",
       "      <td>f8bd3f2000c28c5342fedeb5e50f2e75</td>\n",
       "      <td>1</td>\n",
       "      <td>NaN</td>\n",
       "      <td>Solicitei a compra de uma capa de retrovisor c...</td>\n",
       "      <td>2017-12-15 00:00:00</td>\n",
       "      <td>2017-12-16 01:29:43</td>\n",
       "      <td>Solicitei a compra de uma capa de retrovisor c...</td>\n",
       "    </tr>\n",
       "    <tr>\n",
       "      <th>99999</th>\n",
       "      <td>efe49f1d6f951dd88b51e6ccd4cc548f</td>\n",
       "      <td>90531360ecb1eec2a1fbb265a0db0508</td>\n",
       "      <td>1</td>\n",
       "      <td>NaN</td>\n",
       "      <td>meu produto chegou e ja tenho que devolver, po...</td>\n",
       "      <td>2017-07-03 00:00:00</td>\n",
       "      <td>2017-07-03 21:01:49</td>\n",
       "      <td>meu produto chegou e ja tenho que devolver, po...</td>\n",
       "    </tr>\n",
       "  </tbody>\n",
       "</table>\n",
       "<p>100000 rows × 8 columns</p>\n",
       "</div>"
      ],
      "text/plain": [
       "                              review_id                          order_id  \\\n",
       "0      7bc2406110b926393aa56f80a40eba40  73fc7af87114b39712e6da79b0a377eb   \n",
       "1      80e641a11e56f04c1ad469d5645fdfde  a548910a1c6147796b98fdf73dbeba33   \n",
       "2      228ce5500dc1d8e020d8d1322874b6f0  f9e4b658b201a9f2ecdecbb34bed034b   \n",
       "3      e64fb393e7b32834bb789ff8bb30750e  658677c97b385a9be170737859d3511b   \n",
       "4      f7c4243c7fe1938f181bec41a392bdeb  8e6bfb81e283fa7e4f11123a3fb894f1   \n",
       "...                                 ...                               ...   \n",
       "99995  f3897127253a9592a73be9bdfdf4ed7a  22ec9f0669f784db00fa86d035cf8602   \n",
       "99996  b3de70c89b1510c4cd3d0649fd302472  55d4004744368f5571d1f590031933e4   \n",
       "99997  1adeb9d84d72fe4e337617733eb85149  7725825d039fc1f0ceb7635e3f7d9206   \n",
       "99998  be360f18f5df1e0541061c87021e6d93  f8bd3f2000c28c5342fedeb5e50f2e75   \n",
       "99999  efe49f1d6f951dd88b51e6ccd4cc548f  90531360ecb1eec2a1fbb265a0db0508   \n",
       "\n",
       "       review_score review_comment_title  \\\n",
       "0                 4                  NaN   \n",
       "1                 5                  NaN   \n",
       "2                 5                  NaN   \n",
       "3                 5                  NaN   \n",
       "4                 5                  NaN   \n",
       "...             ...                  ...   \n",
       "99995             5                  NaN   \n",
       "99996             5                  NaN   \n",
       "99997             4                  NaN   \n",
       "99998             1                  NaN   \n",
       "99999             1                  NaN   \n",
       "\n",
       "                                  review_comment_message review_creation_date  \\\n",
       "0                                                    NaN  2018-01-18 00:00:00   \n",
       "1                                                    NaN  2018-03-10 00:00:00   \n",
       "2                                                    NaN  2018-02-17 00:00:00   \n",
       "3                  Recebi bem antes do prazo estipulado.  2017-04-21 00:00:00   \n",
       "4      Parabéns lojas lannister adorei comprar pela I...  2018-03-01 00:00:00   \n",
       "...                                                  ...                  ...   \n",
       "99995                                                NaN  2017-12-09 00:00:00   \n",
       "99996  Excelente mochila, entrega super rápida. Super...  2018-03-22 00:00:00   \n",
       "99997                                                NaN  2018-07-01 00:00:00   \n",
       "99998  Solicitei a compra de uma capa de retrovisor c...  2017-12-15 00:00:00   \n",
       "99999  meu produto chegou e ja tenho que devolver, po...  2017-07-03 00:00:00   \n",
       "\n",
       "      review_answer_timestamp  \\\n",
       "0         2018-01-18 21:46:59   \n",
       "1         2018-03-11 03:05:13   \n",
       "2         2018-02-18 14:36:24   \n",
       "3         2017-04-21 22:02:06   \n",
       "4         2018-03-02 10:26:53   \n",
       "...                       ...   \n",
       "99995     2017-12-11 20:06:42   \n",
       "99996     2018-03-23 09:10:43   \n",
       "99997     2018-07-02 12:59:13   \n",
       "99998     2017-12-16 01:29:43   \n",
       "99999     2017-07-03 21:01:49   \n",
       "\n",
       "                                              message_en  \n",
       "0                                                    NaN  \n",
       "1                                                    NaN  \n",
       "2                                                    NaN  \n",
       "3                I received it well before the deadline.  \n",
       "4      Congratulations lannister stores loved shoppin...  \n",
       "...                                                  ...  \n",
       "99995                                                NaN  \n",
       "99996  Excelente mochila, entrega super rápida. Super...  \n",
       "99997                                                NaN  \n",
       "99998  Solicitei a compra de uma capa de retrovisor c...  \n",
       "99999  meu produto chegou e ja tenho que devolver, po...  \n",
       "\n",
       "[100000 rows x 8 columns]"
      ]
     },
     "execution_count": 16,
     "metadata": {},
     "output_type": "execute_result"
    }
   ],
   "source": [
    "df1"
   ]
  },
  {
   "cell_type": "code",
   "execution_count": 17,
   "metadata": {},
   "outputs": [
    {
     "data": {
      "text/plain": [
       "['I received it well before the deadline.',\n",
       " 'Congratulations lannister stores loved shopping online safe and practical Congratulations to all happy Easter',\n",
       " 'efficient device. on the website the brand of the device is printed as 3desinfector and when it arrives with another name ... update with the correct brand since it is the same device',\n",
       " 'But a little, braking ... for the value ta Boa.',\n",
       " 'Reliable seller, ok product and delivery before the deadline.',\n",
       " 'I WOULD LIKE TO KNOW WHAT HAS BEEN, I ALWAYS RECEIVED AND THIS PURCHASE NOW HAS DISCUSSED',\n",
       " 'Terrible',\n",
       " 'Store note 10',\n",
       " 'thank you for your kind attention',\n",
       " 'The purchase was made easily. The delivery was made well before the given deadline. The product has already started to be used and to date, without problems.',\n",
       " 'very beautiful and cheap watch.',\n",
       " 'Did not like ! I bought a pig in a poke',\n",
       " 'I always buy over the Internet and delivery takes place before the agreed deadline, which I believe is the maximum period. At stark, the maximum term has expired and I have not yet received the product.',\n",
       " 'I got exactly what I expected. Other orders from other sellers were delayed, but this one arrived on time.',\n",
       " 'I recommend ,',\n",
       " 'very good',\n",
       " 'I&#39;m completely in love, super responsible and reliable store!',\n",
       " 'Nothing to get my order.',\n",
       " 'Very good. very fragrant.',\n",
       " 'great seller arrived before the deadline, I loved the product',\n",
       " 'Smooth and efficient purchasing process.',\n",
       " 'I hope it lasts because it is made of fur.',\n",
       " 'I received only 1 Midea Split STYLE control. Missed Remote Control for Air Conditioning Consul',\n",
       " 'good',\n",
       " 'Very beautiful',\n",
       " 'Everything happened as contracted and the delivery was made before the deadline I am satisfied',\n",
       " 'I loved it, beautiful, very delicate',\n",
       " 'Great store for partnership: very fast, well packaged and quality products! Only the cost of shipping that was a little sour.',\n",
       " 'I recommend the seller ...',\n",
       " 'The product did not arrive within the stipulated time and caused inconvenience, because I scheduled my son&#39;s vacation trip, based on the deadline. I live in Bahia and he in Cuiabá alone. Now, the house is empty.',\n",
       " 'Product delivered as requested, and very soon. Congratulations!',\n",
       " 'I bought two units and only received one and now what do I do?',\n",
       " 'Good product, but what came to me does not match the photo in the ad.',\n",
       " 'Very inferior product, badly finished.',\n",
       " 'The canine patrol backpack kit is beautiful !! My grandchild will love it !! Thanks!!',\n",
       " 'Wonderful',\n",
       " 'On-time delivery',\n",
       " 'Fulfilled what was promised in the purchase and with a satisfactory delivery time',\n",
       " 'I asked for a refund and no response so far',\n",
       " 'Super fast.',\n",
       " 'Pleased',\n",
       " 'congratulations station ... always arrives with a lot of antecedence .. Thank you very much ....',\n",
       " 'OK I RECOMMEND',\n",
       " 'Product arrived, but my PC was unable to recognize the USB ports.',\n",
       " 'Very good quality product, arrived before the promised deadline',\n",
       " 'This was the order Bucket With 128 Pieces - Assembling Blocks 2 units - R $ 25.00 each (NOT DELIVERED) Sold and delivered targaryen Eva Rug Nº Letters 36 Pieces Children 1 unit - R $ 35.90 (THIS WAS DELIVERED)',\n",
       " 'Very fast delivery Congratulations',\n",
       " 'I bought three packs of five sheets each of transfer paper for dark tissue and received only two',\n",
       " 'Only one product was missing, I received it today, thank you very much! All right! Att Elenice.',\n",
       " 'The thermal bag besides being beautiful is super spacious. Product as advertised and super fast delivery, delivered well before the deadline.']"
      ]
     },
     "execution_count": 17,
     "metadata": {},
     "output_type": "execute_result"
    }
   ],
   "source": [
    "list(df1.message_en.dropna()[:50])"
   ]
  },
  {
   "cell_type": "markdown",
   "metadata": {},
   "source": [
    "We can make sense of most of the comments"
   ]
  },
  {
   "cell_type": "code",
   "execution_count": 18,
   "metadata": {},
   "outputs": [],
   "source": [
    "df1.to_csv('data/reviews_with_en.csv')"
   ]
  },
  {
   "cell_type": "code",
   "execution_count": 19,
   "metadata": {},
   "outputs": [],
   "source": [
    "import matplotlib.pyplot as plt"
   ]
  },
  {
   "cell_type": "code",
   "execution_count": 20,
   "metadata": {},
   "outputs": [
    {
     "data": {
      "text/plain": [
       "(array([11858.,     0.,  3235.,     0.,     0.,  8287.,     0., 19200.,\n",
       "            0., 57420.]),\n",
       " array([1. , 1.4, 1.8, 2.2, 2.6, 3. , 3.4, 3.8, 4.2, 4.6, 5. ]),\n",
       " <BarContainer object of 10 artists>)"
      ]
     },
     "execution_count": 20,
     "metadata": {},
     "output_type": "execute_result"
    },
    {
     "data": {
      "image/png": "[encoded data removed]",
      "text/plain": [
       "<Figure size 432x288 with 1 Axes>"
      ]
     },
     "metadata": {
      "needs_background": "light"
     },
     "output_type": "display_data"
    }
   ],
   "source": [
    "plt.hist(df1.review_score)"
   ]
  },
  {
   "cell_type": "markdown",
   "metadata": {},
   "source": [
    "We can create assume that positive is bigger than 3"
   ]
  },
  {
   "cell_type": "code",
   "execution_count": 21,
   "metadata": {},
   "outputs": [
    {
     "data": {
      "text/plain": [
       "array([0, 1, 1, ..., 0, 0, 0])"
      ]
     },
     "execution_count": 21,
     "metadata": {},
     "output_type": "execute_result"
    }
   ],
   "source": [
    "np.where(df1.review_score > 4, 1,0)"
   ]
  },
  {
   "cell_type": "code",
   "execution_count": 22,
   "metadata": {},
   "outputs": [],
   "source": [
    "df2 = df1\n",
    "df2['positive'] = np.where(df1.review_score > 3, 1,0)"
   ]
  },
  {
   "cell_type": "code",
   "execution_count": 23,
   "metadata": {},
   "outputs": [
    {
     "data": {
      "text/html": [
       "<div>\n",
       "<style scoped>\n",
       "    .dataframe tbody tr th:only-of-type {\n",
       "        vertical-align: middle;\n",
       "    }\n",
       "\n",
       "    .dataframe tbody tr th {\n",
       "        vertical-align: top;\n",
       "    }\n",
       "\n",
       "    .dataframe thead th {\n",
       "        text-align: right;\n",
       "    }\n",
       "</style>\n",
       "<table border=\"1\" class=\"dataframe\">\n",
       "  <thead>\n",
       "    <tr style=\"text-align: right;\">\n",
       "      <th></th>\n",
       "      <th>review_id</th>\n",
       "      <th>order_id</th>\n",
       "      <th>review_score</th>\n",
       "      <th>review_comment_title</th>\n",
       "      <th>review_comment_message</th>\n",
       "      <th>review_creation_date</th>\n",
       "      <th>review_answer_timestamp</th>\n",
       "      <th>message_en</th>\n",
       "      <th>positive</th>\n",
       "    </tr>\n",
       "  </thead>\n",
       "  <tbody>\n",
       "    <tr>\n",
       "      <th>0</th>\n",
       "      <td>7bc2406110b926393aa56f80a40eba40</td>\n",
       "      <td>73fc7af87114b39712e6da79b0a377eb</td>\n",
       "      <td>4</td>\n",
       "      <td>NaN</td>\n",
       "      <td>NaN</td>\n",
       "      <td>2018-01-18 00:00:00</td>\n",
       "      <td>2018-01-18 21:46:59</td>\n",
       "      <td>NaN</td>\n",
       "      <td>1</td>\n",
       "    </tr>\n",
       "    <tr>\n",
       "      <th>1</th>\n",
       "      <td>80e641a11e56f04c1ad469d5645fdfde</td>\n",
       "      <td>a548910a1c6147796b98fdf73dbeba33</td>\n",
       "      <td>5</td>\n",
       "      <td>NaN</td>\n",
       "      <td>NaN</td>\n",
       "      <td>2018-03-10 00:00:00</td>\n",
       "      <td>2018-03-11 03:05:13</td>\n",
       "      <td>NaN</td>\n",
       "      <td>1</td>\n",
       "    </tr>\n",
       "    <tr>\n",
       "      <th>2</th>\n",
       "      <td>228ce5500dc1d8e020d8d1322874b6f0</td>\n",
       "      <td>f9e4b658b201a9f2ecdecbb34bed034b</td>\n",
       "      <td>5</td>\n",
       "      <td>NaN</td>\n",
       "      <td>NaN</td>\n",
       "      <td>2018-02-17 00:00:00</td>\n",
       "      <td>2018-02-18 14:36:24</td>\n",
       "      <td>NaN</td>\n",
       "      <td>1</td>\n",
       "    </tr>\n",
       "    <tr>\n",
       "      <th>3</th>\n",
       "      <td>e64fb393e7b32834bb789ff8bb30750e</td>\n",
       "      <td>658677c97b385a9be170737859d3511b</td>\n",
       "      <td>5</td>\n",
       "      <td>NaN</td>\n",
       "      <td>Recebi bem antes do prazo estipulado.</td>\n",
       "      <td>2017-04-21 00:00:00</td>\n",
       "      <td>2017-04-21 22:02:06</td>\n",
       "      <td>I received it well before the deadline.</td>\n",
       "      <td>1</td>\n",
       "    </tr>\n",
       "    <tr>\n",
       "      <th>4</th>\n",
       "      <td>f7c4243c7fe1938f181bec41a392bdeb</td>\n",
       "      <td>8e6bfb81e283fa7e4f11123a3fb894f1</td>\n",
       "      <td>5</td>\n",
       "      <td>NaN</td>\n",
       "      <td>Parabéns lojas lannister adorei comprar pela I...</td>\n",
       "      <td>2018-03-01 00:00:00</td>\n",
       "      <td>2018-03-02 10:26:53</td>\n",
       "      <td>Congratulations lannister stores loved shoppin...</td>\n",
       "      <td>1</td>\n",
       "    </tr>\n",
       "    <tr>\n",
       "      <th>...</th>\n",
       "      <td>...</td>\n",
       "      <td>...</td>\n",
       "      <td>...</td>\n",
       "      <td>...</td>\n",
       "      <td>...</td>\n",
       "      <td>...</td>\n",
       "      <td>...</td>\n",
       "      <td>...</td>\n",
       "      <td>...</td>\n",
       "    </tr>\n",
       "    <tr>\n",
       "      <th>99995</th>\n",
       "      <td>f3897127253a9592a73be9bdfdf4ed7a</td>\n",
       "      <td>22ec9f0669f784db00fa86d035cf8602</td>\n",
       "      <td>5</td>\n",
       "      <td>NaN</td>\n",
       "      <td>NaN</td>\n",
       "      <td>2017-12-09 00:00:00</td>\n",
       "      <td>2017-12-11 20:06:42</td>\n",
       "      <td>NaN</td>\n",
       "      <td>1</td>\n",
       "    </tr>\n",
       "    <tr>\n",
       "      <th>99996</th>\n",
       "      <td>b3de70c89b1510c4cd3d0649fd302472</td>\n",
       "      <td>55d4004744368f5571d1f590031933e4</td>\n",
       "      <td>5</td>\n",
       "      <td>NaN</td>\n",
       "      <td>Excelente mochila, entrega super rápida. Super...</td>\n",
       "      <td>2018-03-22 00:00:00</td>\n",
       "      <td>2018-03-23 09:10:43</td>\n",
       "      <td>Excelente mochila, entrega super rápida. Super...</td>\n",
       "      <td>1</td>\n",
       "    </tr>\n",
       "    <tr>\n",
       "      <th>99997</th>\n",
       "      <td>1adeb9d84d72fe4e337617733eb85149</td>\n",
       "      <td>7725825d039fc1f0ceb7635e3f7d9206</td>\n",
       "      <td>4</td>\n",
       "      <td>NaN</td>\n",
       "      <td>NaN</td>\n",
       "      <td>2018-07-01 00:00:00</td>\n",
       "      <td>2018-07-02 12:59:13</td>\n",
       "      <td>NaN</td>\n",
       "      <td>1</td>\n",
       "    </tr>\n",
       "    <tr>\n",
       "      <th>99998</th>\n",
       "      <td>be360f18f5df1e0541061c87021e6d93</td>\n",
       "      <td>f8bd3f2000c28c5342fedeb5e50f2e75</td>\n",
       "      <td>1</td>\n",
       "      <td>NaN</td>\n",
       "      <td>Solicitei a compra de uma capa de retrovisor c...</td>\n",
       "      <td>2017-12-15 00:00:00</td>\n",
       "      <td>2017-12-16 01:29:43</td>\n",
       "      <td>Solicitei a compra de uma capa de retrovisor c...</td>\n",
       "      <td>0</td>\n",
       "    </tr>\n",
       "    <tr>\n",
       "      <th>99999</th>\n",
       "      <td>efe49f1d6f951dd88b51e6ccd4cc548f</td>\n",
       "      <td>90531360ecb1eec2a1fbb265a0db0508</td>\n",
       "      <td>1</td>\n",
       "      <td>NaN</td>\n",
       "      <td>meu produto chegou e ja tenho que devolver, po...</td>\n",
       "      <td>2017-07-03 00:00:00</td>\n",
       "      <td>2017-07-03 21:01:49</td>\n",
       "      <td>meu produto chegou e ja tenho que devolver, po...</td>\n",
       "      <td>0</td>\n",
       "    </tr>\n",
       "  </tbody>\n",
       "</table>\n",
       "<p>100000 rows × 9 columns</p>\n",
       "</div>"
      ],
      "text/plain": [
       "                              review_id                          order_id  \\\n",
       "0      7bc2406110b926393aa56f80a40eba40  73fc7af87114b39712e6da79b0a377eb   \n",
       "1      80e641a11e56f04c1ad469d5645fdfde  a548910a1c6147796b98fdf73dbeba33   \n",
       "2      228ce5500dc1d8e020d8d1322874b6f0  f9e4b658b201a9f2ecdecbb34bed034b   \n",
       "3      e64fb393e7b32834bb789ff8bb30750e  658677c97b385a9be170737859d3511b   \n",
       "4      f7c4243c7fe1938f181bec41a392bdeb  8e6bfb81e283fa7e4f11123a3fb894f1   \n",
       "...                                 ...                               ...   \n",
       "99995  f3897127253a9592a73be9bdfdf4ed7a  22ec9f0669f784db00fa86d035cf8602   \n",
       "99996  b3de70c89b1510c4cd3d0649fd302472  55d4004744368f5571d1f590031933e4   \n",
       "99997  1adeb9d84d72fe4e337617733eb85149  7725825d039fc1f0ceb7635e3f7d9206   \n",
       "99998  be360f18f5df1e0541061c87021e6d93  f8bd3f2000c28c5342fedeb5e50f2e75   \n",
       "99999  efe49f1d6f951dd88b51e6ccd4cc548f  90531360ecb1eec2a1fbb265a0db0508   \n",
       "\n",
       "       review_score review_comment_title  \\\n",
       "0                 4                  NaN   \n",
       "1                 5                  NaN   \n",
       "2                 5                  NaN   \n",
       "3                 5                  NaN   \n",
       "4                 5                  NaN   \n",
       "...             ...                  ...   \n",
       "99995             5                  NaN   \n",
       "99996             5                  NaN   \n",
       "99997             4                  NaN   \n",
       "99998             1                  NaN   \n",
       "99999             1                  NaN   \n",
       "\n",
       "                                  review_comment_message review_creation_date  \\\n",
       "0                                                    NaN  2018-01-18 00:00:00   \n",
       "1                                                    NaN  2018-03-10 00:00:00   \n",
       "2                                                    NaN  2018-02-17 00:00:00   \n",
       "3                  Recebi bem antes do prazo estipulado.  2017-04-21 00:00:00   \n",
       "4      Parabéns lojas lannister adorei comprar pela I...  2018-03-01 00:00:00   \n",
       "...                                                  ...                  ...   \n",
       "99995                                                NaN  2017-12-09 00:00:00   \n",
       "99996  Excelente mochila, entrega super rápida. Super...  2018-03-22 00:00:00   \n",
       "99997                                                NaN  2018-07-01 00:00:00   \n",
       "99998  Solicitei a compra de uma capa de retrovisor c...  2017-12-15 00:00:00   \n",
       "99999  meu produto chegou e ja tenho que devolver, po...  2017-07-03 00:00:00   \n",
       "\n",
       "      review_answer_timestamp  \\\n",
       "0         2018-01-18 21:46:59   \n",
       "1         2018-03-11 03:05:13   \n",
       "2         2018-02-18 14:36:24   \n",
       "3         2017-04-21 22:02:06   \n",
       "4         2018-03-02 10:26:53   \n",
       "...                       ...   \n",
       "99995     2017-12-11 20:06:42   \n",
       "99996     2018-03-23 09:10:43   \n",
       "99997     2018-07-02 12:59:13   \n",
       "99998     2017-12-16 01:29:43   \n",
       "99999     2017-07-03 21:01:49   \n",
       "\n",
       "                                              message_en  positive  \n",
       "0                                                    NaN         1  \n",
       "1                                                    NaN         1  \n",
       "2                                                    NaN         1  \n",
       "3                I received it well before the deadline.         1  \n",
       "4      Congratulations lannister stores loved shoppin...         1  \n",
       "...                                                  ...       ...  \n",
       "99995                                                NaN         1  \n",
       "99996  Excelente mochila, entrega super rápida. Super...         1  \n",
       "99997                                                NaN         1  \n",
       "99998  Solicitei a compra de uma capa de retrovisor c...         0  \n",
       "99999  meu produto chegou e ja tenho que devolver, po...         0  \n",
       "\n",
       "[100000 rows x 9 columns]"
      ]
     },
     "execution_count": 23,
     "metadata": {},
     "output_type": "execute_result"
    }
   ],
   "source": [
    "df2"
   ]
  },
  {
   "cell_type": "code",
   "execution_count": 24,
   "metadata": {},
   "outputs": [
    {
     "data": {
      "text/html": [
       "<div>\n",
       "<style scoped>\n",
       "    .dataframe tbody tr th:only-of-type {\n",
       "        vertical-align: middle;\n",
       "    }\n",
       "\n",
       "    .dataframe tbody tr th {\n",
       "        vertical-align: top;\n",
       "    }\n",
       "\n",
       "    .dataframe thead th {\n",
       "        text-align: right;\n",
       "    }\n",
       "</style>\n",
       "<table border=\"1\" class=\"dataframe\">\n",
       "  <thead>\n",
       "    <tr style=\"text-align: right;\">\n",
       "      <th>positive</th>\n",
       "      <th>0</th>\n",
       "      <th>1</th>\n",
       "    </tr>\n",
       "    <tr>\n",
       "      <th>message_en</th>\n",
       "      <th></th>\n",
       "      <th></th>\n",
       "    </tr>\n",
       "  </thead>\n",
       "  <tbody>\n",
       "    <tr>\n",
       "      <th>False</th>\n",
       "      <td>0.15073</td>\n",
       "      <td>0.2668</td>\n",
       "    </tr>\n",
       "    <tr>\n",
       "      <th>True</th>\n",
       "      <td>0.08307</td>\n",
       "      <td>0.4994</td>\n",
       "    </tr>\n",
       "  </tbody>\n",
       "</table>\n",
       "</div>"
      ],
      "text/plain": [
       "positive          0       1\n",
       "message_en                 \n",
       "False       0.15073  0.2668\n",
       "True        0.08307  0.4994"
      ]
     },
     "execution_count": 24,
     "metadata": {},
     "output_type": "execute_result"
    }
   ],
   "source": [
    "pd.crosstab(df2.message_en.isna(),df2.positive,normalize = True)"
   ]
  },
  {
   "cell_type": "markdown",
   "metadata": {},
   "source": [
    "It seems that comment can indicate that the review is positive"
   ]
  },
  {
   "cell_type": "markdown",
   "metadata": {},
   "source": [
    "Plans for next steps:\n",
    "\n",
    "- Sentiment\n",
    "- create test set from full data\n",
    "- try:\n",
    "- stopwords\n",
    "- lemmatization\n",
    "- logreg - sklearn\n",
    "- vader\n"
   ]
  },
  {
   "cell_type": "code",
   "execution_count": 25,
   "metadata": {},
   "outputs": [],
   "source": [
    "to_model = df2[['positive', 'message_en']]"
   ]
  },
  {
   "cell_type": "code",
   "execution_count": 26,
   "metadata": {},
   "outputs": [
    {
     "name": "stderr",
     "output_type": "stream",
     "text": [
      "<ipython-input-26-460e842c8acf>:1: UserWarning: Pandas doesn't allow columns to be created via a new attribute name - see https://pandas.pydata.org/pandas-docs/stable/indexing.html#attribute-access\n",
      "  to_model.if_comment = np.where(df2.message_en.isna(), 0, 1)\n"
     ]
    }
   ],
   "source": [
    "to_model.if_comment = np.where(df2.message_en.isna(), 0, 1)"
   ]
  },
  {
   "cell_type": "code",
   "execution_count": 27,
   "metadata": {},
   "outputs": [
    {
     "data": {
      "text/html": [
       "<div>\n",
       "<style scoped>\n",
       "    .dataframe tbody tr th:only-of-type {\n",
       "        vertical-align: middle;\n",
       "    }\n",
       "\n",
       "    .dataframe tbody tr th {\n",
       "        vertical-align: top;\n",
       "    }\n",
       "\n",
       "    .dataframe thead th {\n",
       "        text-align: right;\n",
       "    }\n",
       "</style>\n",
       "<table border=\"1\" class=\"dataframe\">\n",
       "  <thead>\n",
       "    <tr style=\"text-align: right;\">\n",
       "      <th></th>\n",
       "      <th>positive</th>\n",
       "      <th>message_en</th>\n",
       "    </tr>\n",
       "  </thead>\n",
       "  <tbody>\n",
       "    <tr>\n",
       "      <th>0</th>\n",
       "      <td>1</td>\n",
       "      <td>NaN</td>\n",
       "    </tr>\n",
       "    <tr>\n",
       "      <th>1</th>\n",
       "      <td>1</td>\n",
       "      <td>NaN</td>\n",
       "    </tr>\n",
       "    <tr>\n",
       "      <th>2</th>\n",
       "      <td>1</td>\n",
       "      <td>NaN</td>\n",
       "    </tr>\n",
       "    <tr>\n",
       "      <th>3</th>\n",
       "      <td>1</td>\n",
       "      <td>I received it well before the deadline.</td>\n",
       "    </tr>\n",
       "    <tr>\n",
       "      <th>4</th>\n",
       "      <td>1</td>\n",
       "      <td>Congratulations lannister stores loved shoppin...</td>\n",
       "    </tr>\n",
       "    <tr>\n",
       "      <th>...</th>\n",
       "      <td>...</td>\n",
       "      <td>...</td>\n",
       "    </tr>\n",
       "    <tr>\n",
       "      <th>99995</th>\n",
       "      <td>1</td>\n",
       "      <td>NaN</td>\n",
       "    </tr>\n",
       "    <tr>\n",
       "      <th>99996</th>\n",
       "      <td>1</td>\n",
       "      <td>Excelente mochila, entrega super rápida. Super...</td>\n",
       "    </tr>\n",
       "    <tr>\n",
       "      <th>99997</th>\n",
       "      <td>1</td>\n",
       "      <td>NaN</td>\n",
       "    </tr>\n",
       "    <tr>\n",
       "      <th>99998</th>\n",
       "      <td>0</td>\n",
       "      <td>Solicitei a compra de uma capa de retrovisor c...</td>\n",
       "    </tr>\n",
       "    <tr>\n",
       "      <th>99999</th>\n",
       "      <td>0</td>\n",
       "      <td>meu produto chegou e ja tenho que devolver, po...</td>\n",
       "    </tr>\n",
       "  </tbody>\n",
       "</table>\n",
       "<p>100000 rows × 2 columns</p>\n",
       "</div>"
      ],
      "text/plain": [
       "       positive                                         message_en\n",
       "0             1                                                NaN\n",
       "1             1                                                NaN\n",
       "2             1                                                NaN\n",
       "3             1            I received it well before the deadline.\n",
       "4             1  Congratulations lannister stores loved shoppin...\n",
       "...         ...                                                ...\n",
       "99995         1                                                NaN\n",
       "99996         1  Excelente mochila, entrega super rápida. Super...\n",
       "99997         1                                                NaN\n",
       "99998         0  Solicitei a compra de uma capa de retrovisor c...\n",
       "99999         0  meu produto chegou e ja tenho que devolver, po...\n",
       "\n",
       "[100000 rows x 2 columns]"
      ]
     },
     "execution_count": 27,
     "metadata": {},
     "output_type": "execute_result"
    }
   ],
   "source": [
    "to_model"
   ]
  },
  {
   "cell_type": "code",
   "execution_count": 28,
   "metadata": {},
   "outputs": [],
   "source": [
    "to_model = to_model.replace({'message_en': {np.nan: ''}})"
   ]
  },
  {
   "cell_type": "code",
   "execution_count": 31,
   "metadata": {},
   "outputs": [],
   "source": [
    "from nltk.stem import SnowballStemmer"
   ]
  },
  {
   "cell_type": "code",
   "execution_count": 32,
   "metadata": {},
   "outputs": [],
   "source": [
    "def to_lower(x):\n",
    "    return [i.lower() for i in x]\n",
    "\n",
    "import re\n",
    "def only_az(x):\n",
    "    return [re.sub('[^a-z ]', '', i) for i in x]\n",
    "\n",
    "def split_to_words(x):\n",
    "    return [i.split(' ') for i in x]\n",
    "\n",
    "import nltk\n",
    "from nltk.corpus import stopwords\n",
    "stop_words = set(stopwords.words('english')) \n",
    "\n",
    "def remove_stopwords(x):\n",
    "    return [[j for j in i if j not in stop_words] for i in x]\n",
    "\n",
    "def stem_list(x):\n",
    "    stemmer = SnowballStemmer(\"english\")\n",
    "    return [stemmer.stem(i) for i in x]\n",
    "\n",
    "def stem(x):\n",
    "    \n",
    "    return [stem_list(i) for i in x]"
   ]
  },
  {
   "cell_type": "code",
   "execution_count": 33,
   "metadata": {},
   "outputs": [],
   "source": [
    "prep1 = list(to_model.message_en)\n",
    "len(prep1 )\n",
    "\n",
    "prep2 = to_lower(prep1)\n",
    "\n",
    "prep3 = only_az(prep2)\n",
    "\n",
    "prep4 = split_to_words(prep3)\n",
    "\n",
    "prep5 = remove_stopwords(prep4)\n",
    "\n",
    "prep6 = stem(prep5)\n",
    "\n",
    "prep7 = [' '.join(i) for i in prep6]"
   ]
  },
  {
   "cell_type": "code",
   "execution_count": 34,
   "metadata": {},
   "outputs": [],
   "source": [
    "to_model['text'] = prep7"
   ]
  },
  {
   "cell_type": "code",
   "execution_count": 35,
   "metadata": {},
   "outputs": [
    {
     "data": {
      "text/html": [
       "<div>\n",
       "<style scoped>\n",
       "    .dataframe tbody tr th:only-of-type {\n",
       "        vertical-align: middle;\n",
       "    }\n",
       "\n",
       "    .dataframe tbody tr th {\n",
       "        vertical-align: top;\n",
       "    }\n",
       "\n",
       "    .dataframe thead th {\n",
       "        text-align: right;\n",
       "    }\n",
       "</style>\n",
       "<table border=\"1\" class=\"dataframe\">\n",
       "  <thead>\n",
       "    <tr style=\"text-align: right;\">\n",
       "      <th></th>\n",
       "      <th>positive</th>\n",
       "      <th>message_en</th>\n",
       "      <th>text</th>\n",
       "    </tr>\n",
       "  </thead>\n",
       "  <tbody>\n",
       "    <tr>\n",
       "      <th>0</th>\n",
       "      <td>1</td>\n",
       "      <td></td>\n",
       "      <td></td>\n",
       "    </tr>\n",
       "    <tr>\n",
       "      <th>1</th>\n",
       "      <td>1</td>\n",
       "      <td></td>\n",
       "      <td></td>\n",
       "    </tr>\n",
       "    <tr>\n",
       "      <th>2</th>\n",
       "      <td>1</td>\n",
       "      <td></td>\n",
       "      <td></td>\n",
       "    </tr>\n",
       "    <tr>\n",
       "      <th>3</th>\n",
       "      <td>1</td>\n",
       "      <td>I received it well before the deadline.</td>\n",
       "      <td>receiv well deadlin</td>\n",
       "    </tr>\n",
       "    <tr>\n",
       "      <th>4</th>\n",
       "      <td>1</td>\n",
       "      <td>Congratulations lannister stores loved shoppin...</td>\n",
       "      <td>congratul lannist store love shop onlin safe p...</td>\n",
       "    </tr>\n",
       "    <tr>\n",
       "      <th>...</th>\n",
       "      <td>...</td>\n",
       "      <td>...</td>\n",
       "      <td>...</td>\n",
       "    </tr>\n",
       "    <tr>\n",
       "      <th>99995</th>\n",
       "      <td>1</td>\n",
       "      <td></td>\n",
       "      <td></td>\n",
       "    </tr>\n",
       "    <tr>\n",
       "      <th>99996</th>\n",
       "      <td>1</td>\n",
       "      <td>Excelente mochila, entrega super rápida. Super...</td>\n",
       "      <td>excelent mochila entrega super rpida super rec...</td>\n",
       "    </tr>\n",
       "    <tr>\n",
       "      <th>99997</th>\n",
       "      <td>1</td>\n",
       "      <td></td>\n",
       "      <td></td>\n",
       "    </tr>\n",
       "    <tr>\n",
       "      <th>99998</th>\n",
       "      <td>0</td>\n",
       "      <td>Solicitei a compra de uma capa de retrovisor c...</td>\n",
       "      <td>solicitei compra de uma capa de retrovisor cel...</td>\n",
       "    </tr>\n",
       "    <tr>\n",
       "      <th>99999</th>\n",
       "      <td>0</td>\n",
       "      <td>meu produto chegou e ja tenho que devolver, po...</td>\n",
       "      <td>meu produto chegou e ja tenho que devolv poi e...</td>\n",
       "    </tr>\n",
       "  </tbody>\n",
       "</table>\n",
       "<p>100000 rows × 3 columns</p>\n",
       "</div>"
      ],
      "text/plain": [
       "       positive                                         message_en  \\\n",
       "0             1                                                      \n",
       "1             1                                                      \n",
       "2             1                                                      \n",
       "3             1            I received it well before the deadline.   \n",
       "4             1  Congratulations lannister stores loved shoppin...   \n",
       "...         ...                                                ...   \n",
       "99995         1                                                      \n",
       "99996         1  Excelente mochila, entrega super rápida. Super...   \n",
       "99997         1                                                      \n",
       "99998         0  Solicitei a compra de uma capa de retrovisor c...   \n",
       "99999         0  meu produto chegou e ja tenho que devolver, po...   \n",
       "\n",
       "                                                    text  \n",
       "0                                                         \n",
       "1                                                         \n",
       "2                                                         \n",
       "3                                    receiv well deadlin  \n",
       "4      congratul lannist store love shop onlin safe p...  \n",
       "...                                                  ...  \n",
       "99995                                                     \n",
       "99996  excelent mochila entrega super rpida super rec...  \n",
       "99997                                                     \n",
       "99998  solicitei compra de uma capa de retrovisor cel...  \n",
       "99999  meu produto chegou e ja tenho que devolv poi e...  \n",
       "\n",
       "[100000 rows x 3 columns]"
      ]
     },
     "execution_count": 35,
     "metadata": {},
     "output_type": "execute_result"
    }
   ],
   "source": [
    "to_model"
   ]
  },
  {
   "cell_type": "code",
   "execution_count": 36,
   "metadata": {},
   "outputs": [
    {
     "data": {
      "text/html": [
       "<div>\n",
       "<style scoped>\n",
       "    .dataframe tbody tr th:only-of-type {\n",
       "        vertical-align: middle;\n",
       "    }\n",
       "\n",
       "    .dataframe tbody tr th {\n",
       "        vertical-align: top;\n",
       "    }\n",
       "\n",
       "    .dataframe thead th {\n",
       "        text-align: right;\n",
       "    }\n",
       "</style>\n",
       "<table border=\"1\" class=\"dataframe\">\n",
       "  <thead>\n",
       "    <tr style=\"text-align: right;\">\n",
       "      <th></th>\n",
       "      <th>a</th>\n",
       "      <th>b</th>\n",
       "    </tr>\n",
       "  </thead>\n",
       "  <tbody>\n",
       "    <tr>\n",
       "      <th>0</th>\n",
       "      <td></td>\n",
       "      <td>69946</td>\n",
       "    </tr>\n",
       "    <tr>\n",
       "      <th>34</th>\n",
       "      <td>product</td>\n",
       "      <td>20119</td>\n",
       "    </tr>\n",
       "    <tr>\n",
       "      <th>35</th>\n",
       "      <td>deliveri</td>\n",
       "      <td>6539</td>\n",
       "    </tr>\n",
       "    <tr>\n",
       "      <th>1</th>\n",
       "      <td>receiv</td>\n",
       "      <td>6502</td>\n",
       "    </tr>\n",
       "    <tr>\n",
       "      <th>82</th>\n",
       "      <td>good</td>\n",
       "      <td>6317</td>\n",
       "    </tr>\n",
       "    <tr>\n",
       "      <th>20</th>\n",
       "      <td>arriv</td>\n",
       "      <td>6270</td>\n",
       "    </tr>\n",
       "    <tr>\n",
       "      <th>132</th>\n",
       "      <td>deliv</td>\n",
       "      <td>5632</td>\n",
       "    </tr>\n",
       "    <tr>\n",
       "      <th>81</th>\n",
       "      <td>recommend</td>\n",
       "      <td>4778</td>\n",
       "    </tr>\n",
       "    <tr>\n",
       "      <th>80</th>\n",
       "      <td>time</td>\n",
       "      <td>4717</td>\n",
       "    </tr>\n",
       "    <tr>\n",
       "      <th>3</th>\n",
       "      <td>deadlin</td>\n",
       "      <td>4286</td>\n",
       "    </tr>\n",
       "    <tr>\n",
       "      <th>90</th>\n",
       "      <td>great</td>\n",
       "      <td>3691</td>\n",
       "    </tr>\n",
       "    <tr>\n",
       "      <th>137</th>\n",
       "      <td>came</td>\n",
       "      <td>3073</td>\n",
       "    </tr>\n",
       "    <tr>\n",
       "      <th>59</th>\n",
       "      <td>bought</td>\n",
       "      <td>3010</td>\n",
       "    </tr>\n",
       "    <tr>\n",
       "      <th>113</th>\n",
       "      <td>qualiti</td>\n",
       "      <td>2818</td>\n",
       "    </tr>\n",
       "    <tr>\n",
       "      <th>6</th>\n",
       "      <td>store</td>\n",
       "      <td>2793</td>\n",
       "    </tr>\n",
       "    <tr>\n",
       "      <th>2</th>\n",
       "      <td>well</td>\n",
       "      <td>2659</td>\n",
       "    </tr>\n",
       "    <tr>\n",
       "      <th>37</th>\n",
       "      <td>like</td>\n",
       "      <td>2638</td>\n",
       "    </tr>\n",
       "    <tr>\n",
       "      <th>40</th>\n",
       "      <td>purchas</td>\n",
       "      <td>2637</td>\n",
       "    </tr>\n",
       "    <tr>\n",
       "      <th>111</th>\n",
       "      <td>fast</td>\n",
       "      <td>2593</td>\n",
       "    </tr>\n",
       "    <tr>\n",
       "      <th>79</th>\n",
       "      <td>one</td>\n",
       "      <td>2283</td>\n",
       "    </tr>\n",
       "    <tr>\n",
       "      <th>77</th>\n",
       "      <td>order</td>\n",
       "      <td>2112</td>\n",
       "    </tr>\n",
       "    <tr>\n",
       "      <th>222</th>\n",
       "      <td>excel</td>\n",
       "      <td>1983</td>\n",
       "    </tr>\n",
       "    <tr>\n",
       "      <th>7</th>\n",
       "      <td>love</td>\n",
       "      <td>1832</td>\n",
       "    </tr>\n",
       "    <tr>\n",
       "      <th>62</th>\n",
       "      <td>buy</td>\n",
       "      <td>1793</td>\n",
       "    </tr>\n",
       "    <tr>\n",
       "      <th>105</th>\n",
       "      <td>everyth</td>\n",
       "      <td>1753</td>\n",
       "    </tr>\n",
       "    <tr>\n",
       "      <th>356</th>\n",
       "      <td>didnt</td>\n",
       "      <td>1727</td>\n",
       "    </tr>\n",
       "    <tr>\n",
       "      <th>76</th>\n",
       "      <td>expect</td>\n",
       "      <td>1650</td>\n",
       "    </tr>\n",
       "    <tr>\n",
       "      <th>56</th>\n",
       "      <td>beauti</td>\n",
       "      <td>1636</td>\n",
       "    </tr>\n",
       "    <tr>\n",
       "      <th>381</th>\n",
       "      <td>perfect</td>\n",
       "      <td>1533</td>\n",
       "    </tr>\n",
       "    <tr>\n",
       "      <th>85</th>\n",
       "      <td>super</td>\n",
       "      <td>1401</td>\n",
       "    </tr>\n",
       "  </tbody>\n",
       "</table>\n",
       "</div>"
      ],
      "text/plain": [
       "             a      b\n",
       "0               69946\n",
       "34     product  20119\n",
       "35    deliveri   6539\n",
       "1       receiv   6502\n",
       "82        good   6317\n",
       "20       arriv   6270\n",
       "132      deliv   5632\n",
       "81   recommend   4778\n",
       "80        time   4717\n",
       "3      deadlin   4286\n",
       "90       great   3691\n",
       "137       came   3073\n",
       "59      bought   3010\n",
       "113    qualiti   2818\n",
       "6        store   2793\n",
       "2         well   2659\n",
       "37        like   2638\n",
       "40     purchas   2637\n",
       "111       fast   2593\n",
       "79         one   2283\n",
       "77       order   2112\n",
       "222      excel   1983\n",
       "7         love   1832\n",
       "62         buy   1793\n",
       "105    everyth   1753\n",
       "356      didnt   1727\n",
       "76      expect   1650\n",
       "56      beauti   1636\n",
       "381    perfect   1533\n",
       "85       super   1401"
      ]
     },
     "execution_count": 36,
     "metadata": {},
     "output_type": "execute_result"
    }
   ],
   "source": [
    "a = ' '.join(list(to_model.text.dropna())).lower().split(' ')\n",
    "\n",
    "from collections import Counter \n",
    "occurence_count = Counter(a) \n",
    "\n",
    "pd.DataFrame([(k, v) for k, v in dict(occurence_count).items()], columns = ['a', 'b']).sort_values('b',ascending = False).head(30)"
   ]
  },
  {
   "cell_type": "code",
   "execution_count": 42,
   "metadata": {},
   "outputs": [],
   "source": [
    "from sklearn.feature_extraction.text import CountVectorizer, TfidfTransformer"
   ]
  },
  {
   "cell_type": "code",
   "execution_count": 43,
   "metadata": {},
   "outputs": [],
   "source": [
    "cv = CountVectorizer()"
   ]
  },
  {
   "cell_type": "code",
   "execution_count": 44,
   "metadata": {},
   "outputs": [],
   "source": [
    "to_model2 = cv.fit_transform(to_model.text)\n",
    "\n",
    "tfidf_transformer = TfidfTransformer(use_idf=False)\n",
    "to_model3 = tfidf_transformer.fit_transform(to_model2)"
   ]
  },
  {
   "cell_type": "code",
   "execution_count": 45,
   "metadata": {},
   "outputs": [],
   "source": [
    "from sklearn.model_selection import train_test_split"
   ]
  },
  {
   "cell_type": "code",
   "execution_count": 46,
   "metadata": {},
   "outputs": [
    {
     "data": {
      "text/plain": [
       "<100000x7867 sparse matrix of type '<class 'numpy.float64'>'\n",
       "\twith 264744 stored elements in Compressed Sparse Row format>"
      ]
     },
     "execution_count": 46,
     "metadata": {},
     "output_type": "execute_result"
    }
   ],
   "source": [
    "to_model3"
   ]
  },
  {
   "cell_type": "code",
   "execution_count": 47,
   "metadata": {},
   "outputs": [],
   "source": [
    "x_train, x_test, y_train, y_test = train_test_split(to_model3, to_model.positive,train_size = 0.7)\n",
    "# x_train, x_test, y_train, y_test = train_test_split(to_model, to_model.positive,train_size = 0.7,random_state=10)"
   ]
  },
  {
   "cell_type": "code",
   "execution_count": 48,
   "metadata": {},
   "outputs": [
    {
     "data": {
      "text/plain": [
       "<70000x7867 sparse matrix of type '<class 'numpy.float64'>'\n",
       "\twith 184283 stored elements in Compressed Sparse Row format>"
      ]
     },
     "execution_count": 48,
     "metadata": {},
     "output_type": "execute_result"
    }
   ],
   "source": [
    "x_train"
   ]
  },
  {
   "cell_type": "markdown",
   "metadata": {},
   "source": [
    "Modeling"
   ]
  },
  {
   "cell_type": "code",
   "execution_count": 51,
   "metadata": {},
   "outputs": [],
   "source": [
    "from sklearn.ensemble import GradientBoostingClassifier"
   ]
  },
  {
   "cell_type": "code",
   "execution_count": 52,
   "metadata": {},
   "outputs": [
    {
     "data": {
      "text/plain": [
       "GradientBoostingClassifier()"
      ]
     },
     "execution_count": 52,
     "metadata": {},
     "output_type": "execute_result"
    }
   ],
   "source": [
    "model = GradientBoostingClassifier()\n",
    "# model = LogisticRegression(class_weight = {1: 0.7, 0:0.3})\n",
    "# model = LogisticRegression()\n",
    "model.fit(x_train, y_train)"
   ]
  },
  {
   "cell_type": "code",
   "execution_count": 53,
   "metadata": {},
   "outputs": [],
   "source": [
    "from sklearn.metrics import accuracy_score,auc"
   ]
  },
  {
   "cell_type": "code",
   "execution_count": 54,
   "metadata": {},
   "outputs": [
    {
     "data": {
      "image/png": "[encoded data removed]",
      "text/plain": [
       "<Figure size 432x288 with 1 Axes>"
      ]
     },
     "metadata": {
      "needs_background": "light"
     },
     "output_type": "display_data"
    }
   ],
   "source": [
    "plot_auc(model, x_test, y_test)"
   ]
  },
  {
   "cell_type": "markdown",
   "metadata": {},
   "source": [
    "Upsampling"
   ]
  },
  {
   "cell_type": "code",
   "execution_count": 55,
   "metadata": {},
   "outputs": [],
   "source": [
    "x_train_up = x_train.copy()\n",
    "y_train_up = y_train.copy()"
   ]
  },
  {
   "cell_type": "code",
   "execution_count": 56,
   "metadata": {},
   "outputs": [
    {
     "data": {
      "text/plain": [
       "1    53702\n",
       "0    16298\n",
       "Name: positive, dtype: int64"
      ]
     },
     "execution_count": 56,
     "metadata": {},
     "output_type": "execute_result"
    }
   ],
   "source": [
    "y_train.value_counts()"
   ]
  },
  {
   "cell_type": "code",
   "execution_count": 57,
   "metadata": {},
   "outputs": [],
   "source": [
    "no_to_resample = 53607-16393\n",
    "no_to_resample\n",
    "\n",
    "indexes0 = np.where(y_train==0)[0]\n",
    "indexes_to_add = np.random.choice(indexes0, size = no_to_resample)"
   ]
  },
  {
   "cell_type": "code",
   "execution_count": 58,
   "metadata": {},
   "outputs": [],
   "source": [
    "import scipy"
   ]
  },
  {
   "cell_type": "code",
   "execution_count": 59,
   "metadata": {},
   "outputs": [],
   "source": [
    "x_train_up = scipy.sparse.vstack([x_train,x_train[indexes_to_add]])\n",
    "# x_train_up = x_train[indexes_to_add]"
   ]
  },
  {
   "cell_type": "code",
   "execution_count": 60,
   "metadata": {},
   "outputs": [
    {
     "data": {
      "text/plain": [
       "<107214x7867 sparse matrix of type '<class 'numpy.float64'>'\n",
       "\twith 385193 stored elements in Compressed Sparse Row format>"
      ]
     },
     "execution_count": 60,
     "metadata": {},
     "output_type": "execute_result"
    }
   ],
   "source": [
    "x_train_up"
   ]
  },
  {
   "cell_type": "code",
   "execution_count": 61,
   "metadata": {},
   "outputs": [],
   "source": [
    "y_train_up = y_train.append(y_train.iloc[indexes_to_add])"
   ]
  },
  {
   "cell_type": "code",
   "execution_count": 62,
   "metadata": {},
   "outputs": [
    {
     "data": {
      "text/plain": [
       "1    53702\n",
       "0    53512\n",
       "Name: positive, dtype: int64"
      ]
     },
     "execution_count": 62,
     "metadata": {},
     "output_type": "execute_result"
    }
   ],
   "source": [
    "y_train_up.value_counts()"
   ]
  },
  {
   "cell_type": "code",
   "execution_count": 63,
   "metadata": {},
   "outputs": [
    {
     "data": {
      "text/plain": [
       "GradientBoostingClassifier()"
      ]
     },
     "execution_count": 63,
     "metadata": {},
     "output_type": "execute_result"
    }
   ],
   "source": [
    "model2 = GradientBoostingClassifier()\n",
    "# model = LogisticRegression(class_weight = {1: 0.7, 0:0.3})\n",
    "# model = LogisticRegression()\n",
    "model2.fit(x_train_up, y_train_up)"
   ]
  },
  {
   "cell_type": "code",
   "execution_count": 64,
   "metadata": {},
   "outputs": [
    {
     "data": {
      "image/png": "[encoded data removed]",
      "text/plain": [
       "<Figure size 432x288 with 1 Axes>"
      ]
     },
     "metadata": {
      "needs_background": "light"
     },
     "output_type": "display_data"
    }
   ],
   "source": [
    "plot_auc(model2, x_test, y_test)"
   ]
  },
  {
   "cell_type": "markdown",
   "metadata": {},
   "source": [
    "Slightly better result but not so much"
   ]
  },
  {
   "cell_type": "markdown",
   "metadata": {},
   "source": [
    "### Topic modeling"
   ]
  },
  {
   "cell_type": "code",
   "execution_count": 65,
   "metadata": {},
   "outputs": [],
   "source": [
    "cv_feature_names = cv.get_feature_names()"
   ]
  },
  {
   "cell_type": "code",
   "execution_count": 66,
   "metadata": {},
   "outputs": [],
   "source": [
    "# take a look at the output\n",
    "def display_topics(model, feature_names, no_top_words):\n",
    "    topic_dict = {}\n",
    "    for topic_idx, topic in enumerate(model.components_):\n",
    "        topic_dict[\"Topic %d words\" % (topic_idx)]= ['{}'.format(feature_names[i])\n",
    "                        for i in topic.argsort()[:-no_top_words - 1:-1]]\n",
    "        topic_dict[\"Topic %d weights\" % (topic_idx)]= ['{:.1f}'.format(topic[i])\n",
    "                        for i in topic.argsort()[:-no_top_words - 1:-1]]\n",
    "    return pd.DataFrame(topic_dict)"
   ]
  },
  {
   "cell_type": "code",
   "execution_count": 67,
   "metadata": {},
   "outputs": [
    {
     "data": {
      "text/plain": [
       "LatentDirichletAllocation(random_state=0)"
      ]
     },
     "execution_count": 67,
     "metadata": {},
     "output_type": "execute_result"
    }
   ],
   "source": [
    "from sklearn.decomposition import LatentDirichletAllocation\n",
    "\n",
    "number_of_topics = 10\n",
    "\n",
    "# define the random state so that this model is reproducible\n",
    "model_lda = LatentDirichletAllocation(n_components=number_of_topics, random_state=0)\n",
    "\n",
    "model_lda.fit(to_model3)"
   ]
  },
  {
   "cell_type": "code",
   "execution_count": 68,
   "metadata": {},
   "outputs": [
    {
     "data": {
      "text/html": [
       "<div>\n",
       "<style scoped>\n",
       "    .dataframe tbody tr th:only-of-type {\n",
       "        vertical-align: middle;\n",
       "    }\n",
       "\n",
       "    .dataframe tbody tr th {\n",
       "        vertical-align: top;\n",
       "    }\n",
       "\n",
       "    .dataframe thead th {\n",
       "        text-align: right;\n",
       "    }\n",
       "</style>\n",
       "<table border=\"1\" class=\"dataframe\">\n",
       "  <thead>\n",
       "    <tr style=\"text-align: right;\">\n",
       "      <th></th>\n",
       "      <th>Topic 0 words</th>\n",
       "      <th>Topic 0 weights</th>\n",
       "      <th>Topic 1 words</th>\n",
       "      <th>Topic 1 weights</th>\n",
       "      <th>Topic 2 words</th>\n",
       "      <th>Topic 2 weights</th>\n",
       "      <th>Topic 3 words</th>\n",
       "      <th>Topic 3 weights</th>\n",
       "      <th>Topic 4 words</th>\n",
       "      <th>Topic 4 weights</th>\n",
       "      <th>Topic 5 words</th>\n",
       "      <th>Topic 5 weights</th>\n",
       "      <th>Topic 6 words</th>\n",
       "      <th>Topic 6 weights</th>\n",
       "      <th>Topic 7 words</th>\n",
       "      <th>Topic 7 weights</th>\n",
       "      <th>Topic 8 words</th>\n",
       "      <th>Topic 8 weights</th>\n",
       "      <th>Topic 9 words</th>\n",
       "      <th>Topic 9 weights</th>\n",
       "    </tr>\n",
       "  </thead>\n",
       "  <tbody>\n",
       "    <tr>\n",
       "      <th>0</th>\n",
       "      <td>deliveri</td>\n",
       "      <td>517.7</td>\n",
       "      <td>good</td>\n",
       "      <td>2956.6</td>\n",
       "      <td>product</td>\n",
       "      <td>2233.0</td>\n",
       "      <td>great</td>\n",
       "      <td>1497.8</td>\n",
       "      <td>product</td>\n",
       "      <td>1133.7</td>\n",
       "      <td>everyth</td>\n",
       "      <td>541.7</td>\n",
       "      <td>fast</td>\n",
       "      <td>1153.6</td>\n",
       "      <td>product</td>\n",
       "      <td>666.6</td>\n",
       "      <td>receiv</td>\n",
       "      <td>854.5</td>\n",
       "      <td>product</td>\n",
       "      <td>477.0</td>\n",
       "    </tr>\n",
       "    <tr>\n",
       "      <th>1</th>\n",
       "      <td>time</td>\n",
       "      <td>402.6</td>\n",
       "      <td>product</td>\n",
       "      <td>748.6</td>\n",
       "      <td>arriv</td>\n",
       "      <td>1655.4</td>\n",
       "      <td>recommend</td>\n",
       "      <td>1346.5</td>\n",
       "      <td>receiv</td>\n",
       "      <td>726.8</td>\n",
       "      <td>right</td>\n",
       "      <td>512.4</td>\n",
       "      <td>deliveri</td>\n",
       "      <td>1131.9</td>\n",
       "      <td>like</td>\n",
       "      <td>256.4</td>\n",
       "      <td>product</td>\n",
       "      <td>691.2</td>\n",
       "      <td>post</td>\n",
       "      <td>258.0</td>\n",
       "    </tr>\n",
       "    <tr>\n",
       "      <th>2</th>\n",
       "      <td>buy</td>\n",
       "      <td>295.7</td>\n",
       "      <td>qualiti</td>\n",
       "      <td>379.5</td>\n",
       "      <td>deadlin</td>\n",
       "      <td>1512.2</td>\n",
       "      <td>product</td>\n",
       "      <td>886.3</td>\n",
       "      <td>deliv</td>\n",
       "      <td>504.4</td>\n",
       "      <td>came</td>\n",
       "      <td>497.0</td>\n",
       "      <td>super</td>\n",
       "      <td>442.4</td>\n",
       "      <td>came</td>\n",
       "      <td>231.5</td>\n",
       "      <td>love</td>\n",
       "      <td>470.6</td>\n",
       "      <td>deliveri</td>\n",
       "      <td>257.9</td>\n",
       "    </tr>\n",
       "    <tr>\n",
       "      <th>3</th>\n",
       "      <td>alway</td>\n",
       "      <td>251.9</td>\n",
       "      <td>expect</td>\n",
       "      <td>304.6</td>\n",
       "      <td>deliv</td>\n",
       "      <td>1317.6</td>\n",
       "      <td>excel</td>\n",
       "      <td>780.6</td>\n",
       "      <td>purchas</td>\n",
       "      <td>470.9</td>\n",
       "      <td>ok</td>\n",
       "      <td>438.3</td>\n",
       "      <td>product</td>\n",
       "      <td>416.4</td>\n",
       "      <td>bought</td>\n",
       "      <td>227.7</td>\n",
       "      <td>yet</td>\n",
       "      <td>405.3</td>\n",
       "      <td>offic</td>\n",
       "      <td>218.7</td>\n",
       "    </tr>\n",
       "    <tr>\n",
       "      <th>4</th>\n",
       "      <td>congratul</td>\n",
       "      <td>227.8</td>\n",
       "      <td>materi</td>\n",
       "      <td>115.9</td>\n",
       "      <td>time</td>\n",
       "      <td>945.1</td>\n",
       "      <td>like</td>\n",
       "      <td>532.9</td>\n",
       "      <td>bought</td>\n",
       "      <td>439.0</td>\n",
       "      <td>product</td>\n",
       "      <td>320.8</td>\n",
       "      <td>beauti</td>\n",
       "      <td>259.8</td>\n",
       "      <td>one</td>\n",
       "      <td>206.7</td>\n",
       "      <td>havent</td>\n",
       "      <td>324.6</td>\n",
       "      <td>receiv</td>\n",
       "      <td>197.9</td>\n",
       "    </tr>\n",
       "    <tr>\n",
       "      <th>5</th>\n",
       "      <td>lannist</td>\n",
       "      <td>162.0</td>\n",
       "      <td>beauti</td>\n",
       "      <td>108.4</td>\n",
       "      <td>well</td>\n",
       "      <td>890.0</td>\n",
       "      <td>store</td>\n",
       "      <td>360.8</td>\n",
       "      <td>one</td>\n",
       "      <td>375.3</td>\n",
       "      <td>defect</td>\n",
       "      <td>102.8</td>\n",
       "      <td>great</td>\n",
       "      <td>183.7</td>\n",
       "      <td>receiv</td>\n",
       "      <td>175.5</td>\n",
       "      <td>didnt</td>\n",
       "      <td>148.4</td>\n",
       "      <td>deliv</td>\n",
       "      <td>190.5</td>\n",
       "    </tr>\n",
       "    <tr>\n",
       "      <th>6</th>\n",
       "      <td>long</td>\n",
       "      <td>154.5</td>\n",
       "      <td>price</td>\n",
       "      <td>103.5</td>\n",
       "      <td>perfect</td>\n",
       "      <td>542.8</td>\n",
       "      <td>servic</td>\n",
       "      <td>340.6</td>\n",
       "      <td>order</td>\n",
       "      <td>363.0</td>\n",
       "      <td>arriv</td>\n",
       "      <td>99.5</td>\n",
       "      <td>recommend</td>\n",
       "      <td>179.9</td>\n",
       "      <td>photo</td>\n",
       "      <td>165.5</td>\n",
       "      <td>arriv</td>\n",
       "      <td>129.2</td>\n",
       "      <td>wait</td>\n",
       "      <td>159.9</td>\n",
       "    </tr>\n",
       "    <tr>\n",
       "      <th>7</th>\n",
       "      <td>store</td>\n",
       "      <td>142.2</td>\n",
       "      <td>like</td>\n",
       "      <td>73.2</td>\n",
       "      <td>recommend</td>\n",
       "      <td>480.2</td>\n",
       "      <td>realli</td>\n",
       "      <td>304.1</td>\n",
       "      <td>store</td>\n",
       "      <td>253.6</td>\n",
       "      <td>box</td>\n",
       "      <td>91.4</td>\n",
       "      <td>wonder</td>\n",
       "      <td>127.2</td>\n",
       "      <td>come</td>\n",
       "      <td>136.1</td>\n",
       "      <td>note</td>\n",
       "      <td>120.3</td>\n",
       "      <td>arriv</td>\n",
       "      <td>158.1</td>\n",
       "    </tr>\n",
       "    <tr>\n",
       "      <th>8</th>\n",
       "      <td>delay</td>\n",
       "      <td>136.1</td>\n",
       "      <td>better</td>\n",
       "      <td>55.5</td>\n",
       "      <td>deliveri</td>\n",
       "      <td>437.1</td>\n",
       "      <td>qualiti</td>\n",
       "      <td>266.6</td>\n",
       "      <td>return</td>\n",
       "      <td>235.0</td>\n",
       "      <td>bought</td>\n",
       "      <td>73.3</td>\n",
       "      <td>ontim</td>\n",
       "      <td>107.0</td>\n",
       "      <td>didnt</td>\n",
       "      <td>134.0</td>\n",
       "      <td>deadlin</td>\n",
       "      <td>111.3</td>\n",
       "      <td>time</td>\n",
       "      <td>125.6</td>\n",
       "    </tr>\n",
       "    <tr>\n",
       "      <th>9</th>\n",
       "      <td>product</td>\n",
       "      <td>120.1</td>\n",
       "      <td>exceed</td>\n",
       "      <td>54.8</td>\n",
       "      <td>schedul</td>\n",
       "      <td>413.1</td>\n",
       "      <td>thank</td>\n",
       "      <td>208.2</td>\n",
       "      <td>two</td>\n",
       "      <td>234.2</td>\n",
       "      <td>color</td>\n",
       "      <td>72.6</td>\n",
       "      <td>love</td>\n",
       "      <td>106.0</td>\n",
       "      <td>differ</td>\n",
       "      <td>120.5</td>\n",
       "      <td>use</td>\n",
       "      <td>106.2</td>\n",
       "      <td>still</td>\n",
       "      <td>117.1</td>\n",
       "    </tr>\n",
       "  </tbody>\n",
       "</table>\n",
       "</div>"
      ],
      "text/plain": [
       "  Topic 0 words Topic 0 weights Topic 1 words Topic 1 weights Topic 2 words  \\\n",
       "0      deliveri           517.7          good          2956.6       product   \n",
       "1          time           402.6       product           748.6         arriv   \n",
       "2           buy           295.7       qualiti           379.5       deadlin   \n",
       "3         alway           251.9        expect           304.6         deliv   \n",
       "4     congratul           227.8        materi           115.9          time   \n",
       "5       lannist           162.0        beauti           108.4          well   \n",
       "6          long           154.5         price           103.5       perfect   \n",
       "7         store           142.2          like            73.2     recommend   \n",
       "8         delay           136.1        better            55.5      deliveri   \n",
       "9       product           120.1        exceed            54.8       schedul   \n",
       "\n",
       "  Topic 2 weights Topic 3 words Topic 3 weights Topic 4 words Topic 4 weights  \\\n",
       "0          2233.0         great          1497.8       product          1133.7   \n",
       "1          1655.4     recommend          1346.5        receiv           726.8   \n",
       "2          1512.2       product           886.3         deliv           504.4   \n",
       "3          1317.6         excel           780.6       purchas           470.9   \n",
       "4           945.1          like           532.9        bought           439.0   \n",
       "5           890.0         store           360.8           one           375.3   \n",
       "6           542.8        servic           340.6         order           363.0   \n",
       "7           480.2        realli           304.1         store           253.6   \n",
       "8           437.1       qualiti           266.6        return           235.0   \n",
       "9           413.1         thank           208.2           two           234.2   \n",
       "\n",
       "  Topic 5 words Topic 5 weights Topic 6 words Topic 6 weights Topic 7 words  \\\n",
       "0       everyth           541.7          fast          1153.6       product   \n",
       "1         right           512.4      deliveri          1131.9          like   \n",
       "2          came           497.0         super           442.4          came   \n",
       "3            ok           438.3       product           416.4        bought   \n",
       "4       product           320.8        beauti           259.8           one   \n",
       "5        defect           102.8         great           183.7        receiv   \n",
       "6         arriv            99.5     recommend           179.9         photo   \n",
       "7           box            91.4        wonder           127.2          come   \n",
       "8        bought            73.3         ontim           107.0         didnt   \n",
       "9         color            72.6          love           106.0        differ   \n",
       "\n",
       "  Topic 7 weights Topic 8 words Topic 8 weights Topic 9 words Topic 9 weights  \n",
       "0           666.6        receiv           854.5       product           477.0  \n",
       "1           256.4       product           691.2          post           258.0  \n",
       "2           231.5          love           470.6      deliveri           257.9  \n",
       "3           227.7           yet           405.3         offic           218.7  \n",
       "4           206.7        havent           324.6        receiv           197.9  \n",
       "5           175.5         didnt           148.4         deliv           190.5  \n",
       "6           165.5         arriv           129.2          wait           159.9  \n",
       "7           136.1          note           120.3         arriv           158.1  \n",
       "8           134.0       deadlin           111.3          time           125.6  \n",
       "9           120.5           use           106.2         still           117.1  "
      ]
     },
     "execution_count": 68,
     "metadata": {},
     "output_type": "execute_result"
    }
   ],
   "source": [
    "no_top_words = 10\n",
    "display_topics(model_lda, cv_feature_names, no_top_words)"
   ]
  },
  {
   "cell_type": "markdown",
   "metadata": {},
   "source": [
    "Some differences are visible, e.g. product quality vs. meeting the deadline"
   ]
  },
  {
   "cell_type": "markdown",
   "metadata": {},
   "source": [
    "Now trying with smaller number of features"
   ]
  },
  {
   "cell_type": "code",
   "execution_count": 69,
   "metadata": {},
   "outputs": [
    {
     "data": {
      "text/plain": [
       "LatentDirichletAllocation(n_components=3, random_state=0)"
      ]
     },
     "execution_count": 69,
     "metadata": {},
     "output_type": "execute_result"
    }
   ],
   "source": [
    "from sklearn.decomposition import LatentDirichletAllocation\n",
    "\n",
    "number_of_topics = 3\n",
    "# define the random state so that this model is reproducible\n",
    "model_lda2 = LatentDirichletAllocation(n_components=number_of_topics, random_state=0,)\n",
    "model_lda2.fit(to_model3)"
   ]
  },
  {
   "cell_type": "code",
   "execution_count": 70,
   "metadata": {},
   "outputs": [
    {
     "data": {
      "text/plain": [
       "(3, 7867)"
      ]
     },
     "execution_count": 70,
     "metadata": {},
     "output_type": "execute_result"
    }
   ],
   "source": [
    "model_lda2.components_.shape"
   ]
  },
  {
   "cell_type": "code",
   "execution_count": 71,
   "metadata": {},
   "outputs": [
    {
     "data": {
      "text/html": [
       "<div>\n",
       "<style scoped>\n",
       "    .dataframe tbody tr th:only-of-type {\n",
       "        vertical-align: middle;\n",
       "    }\n",
       "\n",
       "    .dataframe tbody tr th {\n",
       "        vertical-align: top;\n",
       "    }\n",
       "\n",
       "    .dataframe thead th {\n",
       "        text-align: right;\n",
       "    }\n",
       "</style>\n",
       "<table border=\"1\" class=\"dataframe\">\n",
       "  <thead>\n",
       "    <tr style=\"text-align: right;\">\n",
       "      <th></th>\n",
       "      <th>Topic 0 words</th>\n",
       "      <th>Topic 0 weights</th>\n",
       "      <th>Topic 1 words</th>\n",
       "      <th>Topic 1 weights</th>\n",
       "      <th>Topic 2 words</th>\n",
       "      <th>Topic 2 weights</th>\n",
       "    </tr>\n",
       "  </thead>\n",
       "  <tbody>\n",
       "    <tr>\n",
       "      <th>0</th>\n",
       "      <td>deliveri</td>\n",
       "      <td>2561.1</td>\n",
       "      <td>good</td>\n",
       "      <td>3354.1</td>\n",
       "      <td>product</td>\n",
       "      <td>5011.1</td>\n",
       "    </tr>\n",
       "    <tr>\n",
       "      <th>1</th>\n",
       "      <td>fast</td>\n",
       "      <td>1158.6</td>\n",
       "      <td>product</td>\n",
       "      <td>1744.9</td>\n",
       "      <td>arriv</td>\n",
       "      <td>2309.5</td>\n",
       "    </tr>\n",
       "    <tr>\n",
       "      <th>2</th>\n",
       "      <td>product</td>\n",
       "      <td>937.7</td>\n",
       "      <td>like</td>\n",
       "      <td>994.9</td>\n",
       "      <td>deliv</td>\n",
       "      <td>2120.8</td>\n",
       "    </tr>\n",
       "    <tr>\n",
       "      <th>3</th>\n",
       "      <td>love</td>\n",
       "      <td>846.5</td>\n",
       "      <td>came</td>\n",
       "      <td>857.4</td>\n",
       "      <td>great</td>\n",
       "      <td>1786.0</td>\n",
       "    </tr>\n",
       "    <tr>\n",
       "      <th>4</th>\n",
       "      <td>beauti</td>\n",
       "      <td>689.2</td>\n",
       "      <td>bought</td>\n",
       "      <td>758.6</td>\n",
       "      <td>recommend</td>\n",
       "      <td>1768.4</td>\n",
       "    </tr>\n",
       "    <tr>\n",
       "      <th>5</th>\n",
       "      <td>everyth</td>\n",
       "      <td>650.3</td>\n",
       "      <td>one</td>\n",
       "      <td>658.5</td>\n",
       "      <td>deadlin</td>\n",
       "      <td>1739.7</td>\n",
       "    </tr>\n",
       "    <tr>\n",
       "      <th>6</th>\n",
       "      <td>satisfi</td>\n",
       "      <td>577.7</td>\n",
       "      <td>receiv</td>\n",
       "      <td>612.7</td>\n",
       "      <td>receiv</td>\n",
       "      <td>1703.8</td>\n",
       "    </tr>\n",
       "    <tr>\n",
       "      <th>7</th>\n",
       "      <td>super</td>\n",
       "      <td>557.6</td>\n",
       "      <td>right</td>\n",
       "      <td>534.8</td>\n",
       "      <td>time</td>\n",
       "      <td>1461.0</td>\n",
       "    </tr>\n",
       "    <tr>\n",
       "      <th>8</th>\n",
       "      <td>qualiti</td>\n",
       "      <td>556.5</td>\n",
       "      <td>two</td>\n",
       "      <td>333.3</td>\n",
       "      <td>well</td>\n",
       "      <td>953.4</td>\n",
       "    </tr>\n",
       "    <tr>\n",
       "      <th>9</th>\n",
       "      <td>excel</td>\n",
       "      <td>458.8</td>\n",
       "      <td>order</td>\n",
       "      <td>307.2</td>\n",
       "      <td>store</td>\n",
       "      <td>811.0</td>\n",
       "    </tr>\n",
       "  </tbody>\n",
       "</table>\n",
       "</div>"
      ],
      "text/plain": [
       "  Topic 0 words Topic 0 weights Topic 1 words Topic 1 weights Topic 2 words  \\\n",
       "0      deliveri          2561.1          good          3354.1       product   \n",
       "1          fast          1158.6       product          1744.9         arriv   \n",
       "2       product           937.7          like           994.9         deliv   \n",
       "3          love           846.5          came           857.4         great   \n",
       "4        beauti           689.2        bought           758.6     recommend   \n",
       "5       everyth           650.3           one           658.5       deadlin   \n",
       "6       satisfi           577.7        receiv           612.7        receiv   \n",
       "7         super           557.6         right           534.8          time   \n",
       "8       qualiti           556.5           two           333.3          well   \n",
       "9         excel           458.8         order           307.2         store   \n",
       "\n",
       "  Topic 2 weights  \n",
       "0          5011.1  \n",
       "1          2309.5  \n",
       "2          2120.8  \n",
       "3          1786.0  \n",
       "4          1768.4  \n",
       "5          1739.7  \n",
       "6          1703.8  \n",
       "7          1461.0  \n",
       "8           953.4  \n",
       "9           811.0  "
      ]
     },
     "execution_count": 71,
     "metadata": {},
     "output_type": "execute_result"
    }
   ],
   "source": [
    "no_top_words = 10\n",
    "display_topics(model_lda2, cv_feature_names, no_top_words)"
   ]
  },
  {
   "cell_type": "code",
   "execution_count": 192,
   "metadata": {},
   "outputs": [],
   "source": [
    "topics_df = display_topics(model_lda2, cv_feature_names, 50)"
   ]
  },
  {
   "cell_type": "code",
   "execution_count": 194,
   "metadata": {},
   "outputs": [],
   "source": [
    "topics_df.to_csv('data/lda3_words.csv')"
   ]
  },
  {
   "cell_type": "markdown",
   "metadata": {},
   "source": [
    "topics 0 and 2 are about delivery and store, while topic 1 - about the product."
   ]
  },
  {
   "cell_type": "code",
   "execution_count": 189,
   "metadata": {},
   "outputs": [
    {
     "data": {
      "text/plain": [
       "array([[0.33333333, 0.33333333, 0.33333333],\n",
       "       [0.33333333, 0.33333333, 0.33333333],\n",
       "       [0.33333333, 0.33333333, 0.33333333],\n",
       "       [0.12215722, 0.12493749, 0.75290529],\n",
       "       [0.73848446, 0.15755519, 0.10396035]])"
      ]
     },
     "execution_count": 189,
     "metadata": {},
     "output_type": "execute_result"
    }
   ],
   "source": [
    "model_lda2.transform(to_model3[:5,:])"
   ]
  },
  {
   "cell_type": "markdown",
   "metadata": {},
   "source": [
    "Model correctly says that whitespaces don't belong to specific topic - weights 0.33"
   ]
  },
  {
   "cell_type": "code",
   "execution_count": 168,
   "metadata": {},
   "outputs": [
    {
     "data": {
      "text/plain": [
       "(100000, 7867)"
      ]
     },
     "execution_count": 168,
     "metadata": {},
     "output_type": "execute_result"
    }
   ],
   "source": [
    "to_model3.shape"
   ]
  },
  {
   "cell_type": "code",
   "execution_count": 179,
   "metadata": {},
   "outputs": [],
   "source": [
    "lda2_predictions = model_lda2.transform(to_model3)"
   ]
  },
  {
   "cell_type": "code",
   "execution_count": 181,
   "metadata": {},
   "outputs": [
    {
     "data": {
      "text/html": [
       "<div>\n",
       "<style scoped>\n",
       "    .dataframe tbody tr th:only-of-type {\n",
       "        vertical-align: middle;\n",
       "    }\n",
       "\n",
       "    .dataframe tbody tr th {\n",
       "        vertical-align: top;\n",
       "    }\n",
       "\n",
       "    .dataframe thead th {\n",
       "        text-align: right;\n",
       "    }\n",
       "</style>\n",
       "<table border=\"1\" class=\"dataframe\">\n",
       "  <thead>\n",
       "    <tr style=\"text-align: right;\">\n",
       "      <th></th>\n",
       "      <th>topic1</th>\n",
       "      <th>topic2</th>\n",
       "      <th>topic3</th>\n",
       "    </tr>\n",
       "  </thead>\n",
       "  <tbody>\n",
       "    <tr>\n",
       "      <th>0</th>\n",
       "      <td>0.333333</td>\n",
       "      <td>0.333333</td>\n",
       "      <td>0.333333</td>\n",
       "    </tr>\n",
       "    <tr>\n",
       "      <th>1</th>\n",
       "      <td>0.333333</td>\n",
       "      <td>0.333333</td>\n",
       "      <td>0.333333</td>\n",
       "    </tr>\n",
       "    <tr>\n",
       "      <th>2</th>\n",
       "      <td>0.333333</td>\n",
       "      <td>0.333333</td>\n",
       "      <td>0.333333</td>\n",
       "    </tr>\n",
       "    <tr>\n",
       "      <th>3</th>\n",
       "      <td>0.122157</td>\n",
       "      <td>0.124937</td>\n",
       "      <td>0.752905</td>\n",
       "    </tr>\n",
       "    <tr>\n",
       "      <th>4</th>\n",
       "      <td>0.738484</td>\n",
       "      <td>0.157555</td>\n",
       "      <td>0.103960</td>\n",
       "    </tr>\n",
       "  </tbody>\n",
       "</table>\n",
       "</div>"
      ],
      "text/plain": [
       "     topic1    topic2    topic3\n",
       "0  0.333333  0.333333  0.333333\n",
       "1  0.333333  0.333333  0.333333\n",
       "2  0.333333  0.333333  0.333333\n",
       "3  0.122157  0.124937  0.752905\n",
       "4  0.738484  0.157555  0.103960"
      ]
     },
     "execution_count": 181,
     "metadata": {},
     "output_type": "execute_result"
    }
   ],
   "source": [
    "lda2_predictions_df = pd.DataFrame(lda2_predictions, columns = ['topic1','topic2','topic3'])\n",
    "lda2_predictions_df.head()"
   ]
  },
  {
   "cell_type": "code",
   "execution_count": 186,
   "metadata": {},
   "outputs": [],
   "source": [
    "df4 = df2.copy()\n",
    "df4 = pd.concat([df4, lda2_predictions_df], axis= 1)"
   ]
  },
  {
   "cell_type": "code",
   "execution_count": 187,
   "metadata": {},
   "outputs": [
    {
     "data": {
      "text/html": [
       "<div>\n",
       "<style scoped>\n",
       "    .dataframe tbody tr th:only-of-type {\n",
       "        vertical-align: middle;\n",
       "    }\n",
       "\n",
       "    .dataframe tbody tr th {\n",
       "        vertical-align: top;\n",
       "    }\n",
       "\n",
       "    .dataframe thead th {\n",
       "        text-align: right;\n",
       "    }\n",
       "</style>\n",
       "<table border=\"1\" class=\"dataframe\">\n",
       "  <thead>\n",
       "    <tr style=\"text-align: right;\">\n",
       "      <th></th>\n",
       "      <th>review_id</th>\n",
       "      <th>order_id</th>\n",
       "      <th>review_score</th>\n",
       "      <th>review_comment_title</th>\n",
       "      <th>review_comment_message</th>\n",
       "      <th>review_creation_date</th>\n",
       "      <th>review_answer_timestamp</th>\n",
       "      <th>message_en</th>\n",
       "      <th>positive</th>\n",
       "      <th>topic1</th>\n",
       "      <th>topic2</th>\n",
       "      <th>topic3</th>\n",
       "    </tr>\n",
       "  </thead>\n",
       "  <tbody>\n",
       "    <tr>\n",
       "      <th>0</th>\n",
       "      <td>7bc2406110b926393aa56f80a40eba40</td>\n",
       "      <td>73fc7af87114b39712e6da79b0a377eb</td>\n",
       "      <td>4</td>\n",
       "      <td>NaN</td>\n",
       "      <td>NaN</td>\n",
       "      <td>2018-01-18 00:00:00</td>\n",
       "      <td>2018-01-18 21:46:59</td>\n",
       "      <td>NaN</td>\n",
       "      <td>1</td>\n",
       "      <td>0.333333</td>\n",
       "      <td>0.333333</td>\n",
       "      <td>0.333333</td>\n",
       "    </tr>\n",
       "    <tr>\n",
       "      <th>1</th>\n",
       "      <td>80e641a11e56f04c1ad469d5645fdfde</td>\n",
       "      <td>a548910a1c6147796b98fdf73dbeba33</td>\n",
       "      <td>5</td>\n",
       "      <td>NaN</td>\n",
       "      <td>NaN</td>\n",
       "      <td>2018-03-10 00:00:00</td>\n",
       "      <td>2018-03-11 03:05:13</td>\n",
       "      <td>NaN</td>\n",
       "      <td>1</td>\n",
       "      <td>0.333333</td>\n",
       "      <td>0.333333</td>\n",
       "      <td>0.333333</td>\n",
       "    </tr>\n",
       "    <tr>\n",
       "      <th>2</th>\n",
       "      <td>228ce5500dc1d8e020d8d1322874b6f0</td>\n",
       "      <td>f9e4b658b201a9f2ecdecbb34bed034b</td>\n",
       "      <td>5</td>\n",
       "      <td>NaN</td>\n",
       "      <td>NaN</td>\n",
       "      <td>2018-02-17 00:00:00</td>\n",
       "      <td>2018-02-18 14:36:24</td>\n",
       "      <td>NaN</td>\n",
       "      <td>1</td>\n",
       "      <td>0.333333</td>\n",
       "      <td>0.333333</td>\n",
       "      <td>0.333333</td>\n",
       "    </tr>\n",
       "    <tr>\n",
       "      <th>3</th>\n",
       "      <td>e64fb393e7b32834bb789ff8bb30750e</td>\n",
       "      <td>658677c97b385a9be170737859d3511b</td>\n",
       "      <td>5</td>\n",
       "      <td>NaN</td>\n",
       "      <td>Recebi bem antes do prazo estipulado.</td>\n",
       "      <td>2017-04-21 00:00:00</td>\n",
       "      <td>2017-04-21 22:02:06</td>\n",
       "      <td>I received it well before the deadline.</td>\n",
       "      <td>1</td>\n",
       "      <td>0.122157</td>\n",
       "      <td>0.124937</td>\n",
       "      <td>0.752905</td>\n",
       "    </tr>\n",
       "    <tr>\n",
       "      <th>4</th>\n",
       "      <td>f7c4243c7fe1938f181bec41a392bdeb</td>\n",
       "      <td>8e6bfb81e283fa7e4f11123a3fb894f1</td>\n",
       "      <td>5</td>\n",
       "      <td>NaN</td>\n",
       "      <td>Parabéns lojas lannister adorei comprar pela I...</td>\n",
       "      <td>2018-03-01 00:00:00</td>\n",
       "      <td>2018-03-02 10:26:53</td>\n",
       "      <td>Congratulations lannister stores loved shoppin...</td>\n",
       "      <td>1</td>\n",
       "      <td>0.738484</td>\n",
       "      <td>0.157555</td>\n",
       "      <td>0.103960</td>\n",
       "    </tr>\n",
       "  </tbody>\n",
       "</table>\n",
       "</div>"
      ],
      "text/plain": [
       "                          review_id                          order_id  \\\n",
       "0  7bc2406110b926393aa56f80a40eba40  73fc7af87114b39712e6da79b0a377eb   \n",
       "1  80e641a11e56f04c1ad469d5645fdfde  a548910a1c6147796b98fdf73dbeba33   \n",
       "2  228ce5500dc1d8e020d8d1322874b6f0  f9e4b658b201a9f2ecdecbb34bed034b   \n",
       "3  e64fb393e7b32834bb789ff8bb30750e  658677c97b385a9be170737859d3511b   \n",
       "4  f7c4243c7fe1938f181bec41a392bdeb  8e6bfb81e283fa7e4f11123a3fb894f1   \n",
       "\n",
       "   review_score review_comment_title  \\\n",
       "0             4                  NaN   \n",
       "1             5                  NaN   \n",
       "2             5                  NaN   \n",
       "3             5                  NaN   \n",
       "4             5                  NaN   \n",
       "\n",
       "                              review_comment_message review_creation_date  \\\n",
       "0                                                NaN  2018-01-18 00:00:00   \n",
       "1                                                NaN  2018-03-10 00:00:00   \n",
       "2                                                NaN  2018-02-17 00:00:00   \n",
       "3              Recebi bem antes do prazo estipulado.  2017-04-21 00:00:00   \n",
       "4  Parabéns lojas lannister adorei comprar pela I...  2018-03-01 00:00:00   \n",
       "\n",
       "  review_answer_timestamp                                         message_en  \\\n",
       "0     2018-01-18 21:46:59                                                NaN   \n",
       "1     2018-03-11 03:05:13                                                NaN   \n",
       "2     2018-02-18 14:36:24                                                NaN   \n",
       "3     2017-04-21 22:02:06            I received it well before the deadline.   \n",
       "4     2018-03-02 10:26:53  Congratulations lannister stores loved shoppin...   \n",
       "\n",
       "   positive    topic1    topic2    topic3  \n",
       "0         1  0.333333  0.333333  0.333333  \n",
       "1         1  0.333333  0.333333  0.333333  \n",
       "2         1  0.333333  0.333333  0.333333  \n",
       "3         1  0.122157  0.124937  0.752905  \n",
       "4         1  0.738484  0.157555  0.103960  "
      ]
     },
     "execution_count": 187,
     "metadata": {},
     "output_type": "execute_result"
    }
   ],
   "source": [
    "df4.head()"
   ]
  },
  {
   "cell_type": "code",
   "execution_count": 188,
   "metadata": {},
   "outputs": [],
   "source": [
    "df4.to_csv('data/output_lda3.csv')"
   ]
  },
  {
   "cell_type": "markdown",
   "metadata": {},
   "source": [
    "Other idea is to make the modeling in subgroups based on sentiment (not infered but present in the data)."
   ]
  },
  {
   "cell_type": "code",
   "execution_count": 72,
   "metadata": {},
   "outputs": [],
   "source": [
    "to_model3_pos = to_model3[np.where(to_model.positive==1)]\n",
    "to_model3_neg = to_model3[np.where(to_model.positive==0)]"
   ]
  },
  {
   "cell_type": "code",
   "execution_count": 73,
   "metadata": {},
   "outputs": [
    {
     "data": {
      "text/plain": [
       "LatentDirichletAllocation(n_components=5, random_state=0)"
      ]
     },
     "execution_count": 73,
     "metadata": {},
     "output_type": "execute_result"
    }
   ],
   "source": [
    "number_of_topics = 5\n",
    "# define the random state so that this model is reproducible\n",
    "model_lda_pos = LatentDirichletAllocation(n_components=number_of_topics, random_state=0)\n",
    "model_lda_pos.fit(to_model3_pos)"
   ]
  },
  {
   "cell_type": "code",
   "execution_count": 74,
   "metadata": {},
   "outputs": [
    {
     "data": {
      "text/html": [
       "<div>\n",
       "<style scoped>\n",
       "    .dataframe tbody tr th:only-of-type {\n",
       "        vertical-align: middle;\n",
       "    }\n",
       "\n",
       "    .dataframe tbody tr th {\n",
       "        vertical-align: top;\n",
       "    }\n",
       "\n",
       "    .dataframe thead th {\n",
       "        text-align: right;\n",
       "    }\n",
       "</style>\n",
       "<table border=\"1\" class=\"dataframe\">\n",
       "  <thead>\n",
       "    <tr style=\"text-align: right;\">\n",
       "      <th></th>\n",
       "      <th>Topic 0 words</th>\n",
       "      <th>Topic 0 weights</th>\n",
       "      <th>Topic 1 words</th>\n",
       "      <th>Topic 1 weights</th>\n",
       "      <th>Topic 2 words</th>\n",
       "      <th>Topic 2 weights</th>\n",
       "      <th>Topic 3 words</th>\n",
       "      <th>Topic 3 weights</th>\n",
       "      <th>Topic 4 words</th>\n",
       "      <th>Topic 4 weights</th>\n",
       "    </tr>\n",
       "  </thead>\n",
       "  <tbody>\n",
       "    <tr>\n",
       "      <th>0</th>\n",
       "      <td>deliveri</td>\n",
       "      <td>1905.8</td>\n",
       "      <td>good</td>\n",
       "      <td>2880.0</td>\n",
       "      <td>product</td>\n",
       "      <td>2136.4</td>\n",
       "      <td>great</td>\n",
       "      <td>1483.1</td>\n",
       "      <td>product</td>\n",
       "      <td>607.5</td>\n",
       "    </tr>\n",
       "    <tr>\n",
       "      <th>1</th>\n",
       "      <td>fast</td>\n",
       "      <td>1110.9</td>\n",
       "      <td>product</td>\n",
       "      <td>744.6</td>\n",
       "      <td>arriv</td>\n",
       "      <td>1623.4</td>\n",
       "      <td>recommend</td>\n",
       "      <td>1460.4</td>\n",
       "      <td>love</td>\n",
       "      <td>559.7</td>\n",
       "    </tr>\n",
       "    <tr>\n",
       "      <th>2</th>\n",
       "      <td>product</td>\n",
       "      <td>613.1</td>\n",
       "      <td>excel</td>\n",
       "      <td>591.8</td>\n",
       "      <td>deadlin</td>\n",
       "      <td>1545.8</td>\n",
       "      <td>product</td>\n",
       "      <td>587.0</td>\n",
       "      <td>beauti</td>\n",
       "      <td>548.5</td>\n",
       "    </tr>\n",
       "    <tr>\n",
       "      <th>3</th>\n",
       "      <td>super</td>\n",
       "      <td>353.8</td>\n",
       "      <td>qualiti</td>\n",
       "      <td>303.5</td>\n",
       "      <td>deliv</td>\n",
       "      <td>1148.2</td>\n",
       "      <td>like</td>\n",
       "      <td>539.8</td>\n",
       "      <td>satisfi</td>\n",
       "      <td>299.9</td>\n",
       "    </tr>\n",
       "    <tr>\n",
       "      <th>4</th>\n",
       "      <td>time</td>\n",
       "      <td>245.7</td>\n",
       "      <td>right</td>\n",
       "      <td>167.0</td>\n",
       "      <td>time</td>\n",
       "      <td>961.3</td>\n",
       "      <td>everyth</td>\n",
       "      <td>532.0</td>\n",
       "      <td>purchas</td>\n",
       "      <td>241.0</td>\n",
       "    </tr>\n",
       "    <tr>\n",
       "      <th>5</th>\n",
       "      <td>congratul</td>\n",
       "      <td>224.8</td>\n",
       "      <td>expect</td>\n",
       "      <td>109.5</td>\n",
       "      <td>well</td>\n",
       "      <td>839.8</td>\n",
       "      <td>ok</td>\n",
       "      <td>382.9</td>\n",
       "      <td>receiv</td>\n",
       "      <td>194.9</td>\n",
       "    </tr>\n",
       "    <tr>\n",
       "      <th>6</th>\n",
       "      <td>qualiti</td>\n",
       "      <td>190.9</td>\n",
       "      <td>price</td>\n",
       "      <td>102.8</td>\n",
       "      <td>receiv</td>\n",
       "      <td>497.9</td>\n",
       "      <td>servic</td>\n",
       "      <td>365.6</td>\n",
       "      <td>came</td>\n",
       "      <td>192.1</td>\n",
       "    </tr>\n",
       "    <tr>\n",
       "      <th>7</th>\n",
       "      <td>great</td>\n",
       "      <td>189.9</td>\n",
       "      <td>materi</td>\n",
       "      <td>61.7</td>\n",
       "      <td>recommend</td>\n",
       "      <td>462.3</td>\n",
       "      <td>store</td>\n",
       "      <td>316.5</td>\n",
       "      <td>bought</td>\n",
       "      <td>191.8</td>\n",
       "    </tr>\n",
       "    <tr>\n",
       "      <th>8</th>\n",
       "      <td>excel</td>\n",
       "      <td>128.7</td>\n",
       "      <td>pleas</td>\n",
       "      <td>48.5</td>\n",
       "      <td>expect</td>\n",
       "      <td>451.1</td>\n",
       "      <td>realli</td>\n",
       "      <td>292.8</td>\n",
       "      <td>like</td>\n",
       "      <td>182.7</td>\n",
       "    </tr>\n",
       "    <tr>\n",
       "      <th>9</th>\n",
       "      <td>wonder</td>\n",
       "      <td>121.7</td>\n",
       "      <td>store</td>\n",
       "      <td>47.5</td>\n",
       "      <td>perfect</td>\n",
       "      <td>448.8</td>\n",
       "      <td>buy</td>\n",
       "      <td>223.4</td>\n",
       "      <td>use</td>\n",
       "      <td>153.7</td>\n",
       "    </tr>\n",
       "  </tbody>\n",
       "</table>\n",
       "</div>"
      ],
      "text/plain": [
       "  Topic 0 words Topic 0 weights Topic 1 words Topic 1 weights Topic 2 words  \\\n",
       "0      deliveri          1905.8          good          2880.0       product   \n",
       "1          fast          1110.9       product           744.6         arriv   \n",
       "2       product           613.1         excel           591.8       deadlin   \n",
       "3         super           353.8       qualiti           303.5         deliv   \n",
       "4          time           245.7         right           167.0          time   \n",
       "5     congratul           224.8        expect           109.5          well   \n",
       "6       qualiti           190.9         price           102.8        receiv   \n",
       "7         great           189.9        materi            61.7     recommend   \n",
       "8         excel           128.7         pleas            48.5        expect   \n",
       "9        wonder           121.7         store            47.5       perfect   \n",
       "\n",
       "  Topic 2 weights Topic 3 words Topic 3 weights Topic 4 words Topic 4 weights  \n",
       "0          2136.4         great          1483.1       product           607.5  \n",
       "1          1623.4     recommend          1460.4          love           559.7  \n",
       "2          1545.8       product           587.0        beauti           548.5  \n",
       "3          1148.2          like           539.8       satisfi           299.9  \n",
       "4           961.3       everyth           532.0       purchas           241.0  \n",
       "5           839.8            ok           382.9        receiv           194.9  \n",
       "6           497.9        servic           365.6          came           192.1  \n",
       "7           462.3         store           316.5        bought           191.8  \n",
       "8           451.1        realli           292.8          like           182.7  \n",
       "9           448.8           buy           223.4           use           153.7  "
      ]
     },
     "execution_count": 74,
     "metadata": {},
     "output_type": "execute_result"
    }
   ],
   "source": [
    "no_top_words = 10\n",
    "display_topics(model_lda_pos, cv_feature_names, no_top_words)"
   ]
  },
  {
   "cell_type": "code",
   "execution_count": 75,
   "metadata": {},
   "outputs": [
    {
     "data": {
      "text/plain": [
       "LatentDirichletAllocation(n_components=5, random_state=0)"
      ]
     },
     "execution_count": 75,
     "metadata": {},
     "output_type": "execute_result"
    }
   ],
   "source": [
    "number_of_topics = 5\n",
    "# define the random state so that this model is reproducible\n",
    "model_lda_neg = LatentDirichletAllocation(n_components=number_of_topics, random_state=0)\n",
    "model_lda_neg.fit(to_model3_neg)"
   ]
  },
  {
   "cell_type": "code",
   "execution_count": 76,
   "metadata": {},
   "outputs": [
    {
     "data": {
      "text/html": [
       "<div>\n",
       "<style scoped>\n",
       "    .dataframe tbody tr th:only-of-type {\n",
       "        vertical-align: middle;\n",
       "    }\n",
       "\n",
       "    .dataframe tbody tr th {\n",
       "        vertical-align: top;\n",
       "    }\n",
       "\n",
       "    .dataframe thead th {\n",
       "        text-align: right;\n",
       "    }\n",
       "</style>\n",
       "<table border=\"1\" class=\"dataframe\">\n",
       "  <thead>\n",
       "    <tr style=\"text-align: right;\">\n",
       "      <th></th>\n",
       "      <th>Topic 0 words</th>\n",
       "      <th>Topic 0 weights</th>\n",
       "      <th>Topic 1 words</th>\n",
       "      <th>Topic 1 weights</th>\n",
       "      <th>Topic 2 words</th>\n",
       "      <th>Topic 2 weights</th>\n",
       "      <th>Topic 3 words</th>\n",
       "      <th>Topic 3 weights</th>\n",
       "      <th>Topic 4 words</th>\n",
       "      <th>Topic 4 weights</th>\n",
       "    </tr>\n",
       "  </thead>\n",
       "  <tbody>\n",
       "    <tr>\n",
       "      <th>0</th>\n",
       "      <td>deliveri</td>\n",
       "      <td>213.3</td>\n",
       "      <td>product</td>\n",
       "      <td>700.3</td>\n",
       "      <td>product</td>\n",
       "      <td>1235.7</td>\n",
       "      <td>product</td>\n",
       "      <td>187.6</td>\n",
       "      <td>product</td>\n",
       "      <td>869.8</td>\n",
       "    </tr>\n",
       "    <tr>\n",
       "      <th>1</th>\n",
       "      <td>delay</td>\n",
       "      <td>94.3</td>\n",
       "      <td>good</td>\n",
       "      <td>358.6</td>\n",
       "      <td>receiv</td>\n",
       "      <td>761.8</td>\n",
       "      <td>came</td>\n",
       "      <td>186.9</td>\n",
       "      <td>receiv</td>\n",
       "      <td>647.2</td>\n",
       "    </tr>\n",
       "    <tr>\n",
       "      <th>2</th>\n",
       "      <td>fast</td>\n",
       "      <td>47.5</td>\n",
       "      <td>bought</td>\n",
       "      <td>297.8</td>\n",
       "      <td>deliv</td>\n",
       "      <td>535.9</td>\n",
       "      <td>defect</td>\n",
       "      <td>112.7</td>\n",
       "      <td>didnt</td>\n",
       "      <td>306.0</td>\n",
       "    </tr>\n",
       "    <tr>\n",
       "      <th>3</th>\n",
       "      <td>long</td>\n",
       "      <td>45.5</td>\n",
       "      <td>came</td>\n",
       "      <td>280.1</td>\n",
       "      <td>arriv</td>\n",
       "      <td>382.4</td>\n",
       "      <td>recommend</td>\n",
       "      <td>86.0</td>\n",
       "      <td>deliv</td>\n",
       "      <td>288.9</td>\n",
       "    </tr>\n",
       "    <tr>\n",
       "      <th>4</th>\n",
       "      <td>time</td>\n",
       "      <td>42.0</td>\n",
       "      <td>one</td>\n",
       "      <td>270.6</td>\n",
       "      <td>yet</td>\n",
       "      <td>360.4</td>\n",
       "      <td>broken</td>\n",
       "      <td>80.8</td>\n",
       "      <td>bought</td>\n",
       "      <td>287.6</td>\n",
       "    </tr>\n",
       "    <tr>\n",
       "      <th>5</th>\n",
       "      <td>take</td>\n",
       "      <td>28.8</td>\n",
       "      <td>receiv</td>\n",
       "      <td>215.1</td>\n",
       "      <td>deliveri</td>\n",
       "      <td>306.6</td>\n",
       "      <td>work</td>\n",
       "      <td>75.8</td>\n",
       "      <td>purchas</td>\n",
       "      <td>271.1</td>\n",
       "    </tr>\n",
       "    <tr>\n",
       "      <th>6</th>\n",
       "      <td>bad</td>\n",
       "      <td>28.4</td>\n",
       "      <td>qualiti</td>\n",
       "      <td>171.5</td>\n",
       "      <td>havent</td>\n",
       "      <td>264.6</td>\n",
       "      <td>great</td>\n",
       "      <td>67.9</td>\n",
       "      <td>order</td>\n",
       "      <td>267.8</td>\n",
       "    </tr>\n",
       "    <tr>\n",
       "      <th>7</th>\n",
       "      <td>film</td>\n",
       "      <td>23.3</td>\n",
       "      <td>differ</td>\n",
       "      <td>126.7</td>\n",
       "      <td>time</td>\n",
       "      <td>250.9</td>\n",
       "      <td>like</td>\n",
       "      <td>60.6</td>\n",
       "      <td>return</td>\n",
       "      <td>239.8</td>\n",
       "    </tr>\n",
       "    <tr>\n",
       "      <th>8</th>\n",
       "      <td>clock</td>\n",
       "      <td>21.7</td>\n",
       "      <td>two</td>\n",
       "      <td>124.5</td>\n",
       "      <td>deadlin</td>\n",
       "      <td>181.8</td>\n",
       "      <td>ok</td>\n",
       "      <td>55.7</td>\n",
       "      <td>one</td>\n",
       "      <td>227.3</td>\n",
       "    </tr>\n",
       "    <tr>\n",
       "      <th>9</th>\n",
       "      <td>much</td>\n",
       "      <td>20.6</td>\n",
       "      <td>like</td>\n",
       "      <td>119.9</td>\n",
       "      <td>far</td>\n",
       "      <td>161.0</td>\n",
       "      <td>qualiti</td>\n",
       "      <td>48.8</td>\n",
       "      <td>wait</td>\n",
       "      <td>206.2</td>\n",
       "    </tr>\n",
       "  </tbody>\n",
       "</table>\n",
       "</div>"
      ],
      "text/plain": [
       "  Topic 0 words Topic 0 weights Topic 1 words Topic 1 weights Topic 2 words  \\\n",
       "0      deliveri           213.3       product           700.3       product   \n",
       "1         delay            94.3          good           358.6        receiv   \n",
       "2          fast            47.5        bought           297.8         deliv   \n",
       "3          long            45.5          came           280.1         arriv   \n",
       "4          time            42.0           one           270.6           yet   \n",
       "5          take            28.8        receiv           215.1      deliveri   \n",
       "6           bad            28.4       qualiti           171.5        havent   \n",
       "7          film            23.3        differ           126.7          time   \n",
       "8         clock            21.7           two           124.5       deadlin   \n",
       "9          much            20.6          like           119.9           far   \n",
       "\n",
       "  Topic 2 weights Topic 3 words Topic 3 weights Topic 4 words Topic 4 weights  \n",
       "0          1235.7       product           187.6       product           869.8  \n",
       "1           761.8          came           186.9        receiv           647.2  \n",
       "2           535.9        defect           112.7         didnt           306.0  \n",
       "3           382.4     recommend            86.0         deliv           288.9  \n",
       "4           360.4        broken            80.8        bought           287.6  \n",
       "5           306.6          work            75.8       purchas           271.1  \n",
       "6           264.6         great            67.9         order           267.8  \n",
       "7           250.9          like            60.6        return           239.8  \n",
       "8           181.8            ok            55.7           one           227.3  \n",
       "9           161.0       qualiti            48.8          wait           206.2  "
      ]
     },
     "execution_count": 76,
     "metadata": {},
     "output_type": "execute_result"
    }
   ],
   "source": [
    "no_top_words = 10\n",
    "display_topics(model_lda_neg, cv_feature_names, no_top_words)"
   ]
  },
  {
   "cell_type": "markdown",
   "metadata": {},
   "source": [
    "Now trying woth less components"
   ]
  },
  {
   "cell_type": "code",
   "execution_count": 77,
   "metadata": {},
   "outputs": [
    {
     "data": {
      "text/plain": [
       "LatentDirichletAllocation(n_components=3, random_state=0)"
      ]
     },
     "execution_count": 77,
     "metadata": {},
     "output_type": "execute_result"
    }
   ],
   "source": [
    "number_of_topics = 3\n",
    "# define the random state so that this model is reproducible\n",
    "model_lda_pos2 = LatentDirichletAllocation(n_components=number_of_topics, random_state=0)\n",
    "model_lda_pos2.fit(to_model3_pos)"
   ]
  },
  {
   "cell_type": "code",
   "execution_count": 78,
   "metadata": {},
   "outputs": [
    {
     "data": {
      "text/html": [
       "<div>\n",
       "<style scoped>\n",
       "    .dataframe tbody tr th:only-of-type {\n",
       "        vertical-align: middle;\n",
       "    }\n",
       "\n",
       "    .dataframe tbody tr th {\n",
       "        vertical-align: top;\n",
       "    }\n",
       "\n",
       "    .dataframe thead th {\n",
       "        text-align: right;\n",
       "    }\n",
       "</style>\n",
       "<table border=\"1\" class=\"dataframe\">\n",
       "  <thead>\n",
       "    <tr style=\"text-align: right;\">\n",
       "      <th></th>\n",
       "      <th>Topic 0 words</th>\n",
       "      <th>Topic 0 weights</th>\n",
       "      <th>Topic 1 words</th>\n",
       "      <th>Topic 1 weights</th>\n",
       "      <th>Topic 2 words</th>\n",
       "      <th>Topic 2 weights</th>\n",
       "    </tr>\n",
       "  </thead>\n",
       "  <tbody>\n",
       "    <tr>\n",
       "      <th>0</th>\n",
       "      <td>deliveri</td>\n",
       "      <td>1928.9</td>\n",
       "      <td>good</td>\n",
       "      <td>2879.9</td>\n",
       "      <td>product</td>\n",
       "      <td>3546.9</td>\n",
       "    </tr>\n",
       "    <tr>\n",
       "      <th>1</th>\n",
       "      <td>fast</td>\n",
       "      <td>1111.0</td>\n",
       "      <td>like</td>\n",
       "      <td>715.7</td>\n",
       "      <td>great</td>\n",
       "      <td>1875.9</td>\n",
       "    </tr>\n",
       "    <tr>\n",
       "      <th>2</th>\n",
       "      <td>love</td>\n",
       "      <td>827.2</td>\n",
       "      <td>product</td>\n",
       "      <td>645.3</td>\n",
       "      <td>recommend</td>\n",
       "      <td>1863.2</td>\n",
       "    </tr>\n",
       "    <tr>\n",
       "      <th>3</th>\n",
       "      <td>beauti</td>\n",
       "      <td>624.9</td>\n",
       "      <td>excel</td>\n",
       "      <td>465.7</td>\n",
       "      <td>arriv</td>\n",
       "      <td>1721.4</td>\n",
       "    </tr>\n",
       "    <tr>\n",
       "      <th>4</th>\n",
       "      <td>super</td>\n",
       "      <td>522.0</td>\n",
       "      <td>right</td>\n",
       "      <td>464.2</td>\n",
       "      <td>deadlin</td>\n",
       "      <td>1545.9</td>\n",
       "    </tr>\n",
       "    <tr>\n",
       "      <th>5</th>\n",
       "      <td>product</td>\n",
       "      <td>496.4</td>\n",
       "      <td>buy</td>\n",
       "      <td>432.1</td>\n",
       "      <td>time</td>\n",
       "      <td>1263.5</td>\n",
       "    </tr>\n",
       "    <tr>\n",
       "      <th>6</th>\n",
       "      <td>satisfi</td>\n",
       "      <td>487.8</td>\n",
       "      <td>store</td>\n",
       "      <td>290.5</td>\n",
       "      <td>deliv</td>\n",
       "      <td>1229.9</td>\n",
       "    </tr>\n",
       "    <tr>\n",
       "      <th>7</th>\n",
       "      <td>ok</td>\n",
       "      <td>383.0</td>\n",
       "      <td>everyth</td>\n",
       "      <td>283.4</td>\n",
       "      <td>well</td>\n",
       "      <td>901.5</td>\n",
       "    </tr>\n",
       "    <tr>\n",
       "      <th>8</th>\n",
       "      <td>everyth</td>\n",
       "      <td>354.5</td>\n",
       "      <td>purchas</td>\n",
       "      <td>252.7</td>\n",
       "      <td>qualiti</td>\n",
       "      <td>593.6</td>\n",
       "    </tr>\n",
       "    <tr>\n",
       "      <th>9</th>\n",
       "      <td>perfect</td>\n",
       "      <td>263.9</td>\n",
       "      <td>congratul</td>\n",
       "      <td>202.3</td>\n",
       "      <td>receiv</td>\n",
       "      <td>589.5</td>\n",
       "    </tr>\n",
       "  </tbody>\n",
       "</table>\n",
       "</div>"
      ],
      "text/plain": [
       "  Topic 0 words Topic 0 weights Topic 1 words Topic 1 weights Topic 2 words  \\\n",
       "0      deliveri          1928.9          good          2879.9       product   \n",
       "1          fast          1111.0          like           715.7         great   \n",
       "2          love           827.2       product           645.3     recommend   \n",
       "3        beauti           624.9         excel           465.7         arriv   \n",
       "4         super           522.0         right           464.2       deadlin   \n",
       "5       product           496.4           buy           432.1          time   \n",
       "6       satisfi           487.8         store           290.5         deliv   \n",
       "7            ok           383.0       everyth           283.4          well   \n",
       "8       everyth           354.5       purchas           252.7       qualiti   \n",
       "9       perfect           263.9     congratul           202.3        receiv   \n",
       "\n",
       "  Topic 2 weights  \n",
       "0          3546.9  \n",
       "1          1875.9  \n",
       "2          1863.2  \n",
       "3          1721.4  \n",
       "4          1545.9  \n",
       "5          1263.5  \n",
       "6          1229.9  \n",
       "7           901.5  \n",
       "8           593.6  \n",
       "9           589.5  "
      ]
     },
     "execution_count": 78,
     "metadata": {},
     "output_type": "execute_result"
    }
   ],
   "source": [
    "no_top_words = 10\n",
    "display_topics(model_lda_pos2, cv_feature_names, no_top_words)"
   ]
  },
  {
   "cell_type": "code",
   "execution_count": 79,
   "metadata": {},
   "outputs": [
    {
     "data": {
      "text/plain": [
       "LatentDirichletAllocation(n_components=3, random_state=0)"
      ]
     },
     "execution_count": 79,
     "metadata": {},
     "output_type": "execute_result"
    }
   ],
   "source": [
    "number_of_topics = 3\n",
    "# define the random state so that this model is reproducible\n",
    "model_lda_neg2 = LatentDirichletAllocation(n_components=number_of_topics, random_state=0)\n",
    "model_lda_neg2.fit(to_model3_neg)"
   ]
  },
  {
   "cell_type": "code",
   "execution_count": 80,
   "metadata": {},
   "outputs": [
    {
     "data": {
      "text/html": [
       "<div>\n",
       "<style scoped>\n",
       "    .dataframe tbody tr th:only-of-type {\n",
       "        vertical-align: middle;\n",
       "    }\n",
       "\n",
       "    .dataframe tbody tr th {\n",
       "        vertical-align: top;\n",
       "    }\n",
       "\n",
       "    .dataframe thead th {\n",
       "        text-align: right;\n",
       "    }\n",
       "</style>\n",
       "<table border=\"1\" class=\"dataframe\">\n",
       "  <thead>\n",
       "    <tr style=\"text-align: right;\">\n",
       "      <th></th>\n",
       "      <th>Topic 0 words</th>\n",
       "      <th>Topic 0 weights</th>\n",
       "      <th>Topic 1 words</th>\n",
       "      <th>Topic 1 weights</th>\n",
       "      <th>Topic 2 words</th>\n",
       "      <th>Topic 2 weights</th>\n",
       "    </tr>\n",
       "  </thead>\n",
       "  <tbody>\n",
       "    <tr>\n",
       "      <th>0</th>\n",
       "      <td>deliveri</td>\n",
       "      <td>329.2</td>\n",
       "      <td>product</td>\n",
       "      <td>812.0</td>\n",
       "      <td>product</td>\n",
       "      <td>2109.4</td>\n",
       "    </tr>\n",
       "    <tr>\n",
       "      <th>1</th>\n",
       "      <td>came</td>\n",
       "      <td>194.6</td>\n",
       "      <td>good</td>\n",
       "      <td>473.7</td>\n",
       "      <td>receiv</td>\n",
       "      <td>1331.9</td>\n",
       "    </tr>\n",
       "    <tr>\n",
       "      <th>2</th>\n",
       "      <td>delay</td>\n",
       "      <td>165.1</td>\n",
       "      <td>one</td>\n",
       "      <td>466.9</td>\n",
       "      <td>deliv</td>\n",
       "      <td>820.1</td>\n",
       "    </tr>\n",
       "    <tr>\n",
       "      <th>3</th>\n",
       "      <td>long</td>\n",
       "      <td>162.7</td>\n",
       "      <td>bought</td>\n",
       "      <td>447.0</td>\n",
       "      <td>arriv</td>\n",
       "      <td>491.6</td>\n",
       "    </tr>\n",
       "    <tr>\n",
       "      <th>4</th>\n",
       "      <td>time</td>\n",
       "      <td>149.7</td>\n",
       "      <td>came</td>\n",
       "      <td>392.4</td>\n",
       "      <td>purchas</td>\n",
       "      <td>377.7</td>\n",
       "    </tr>\n",
       "    <tr>\n",
       "      <th>5</th>\n",
       "      <td>bad</td>\n",
       "      <td>101.8</td>\n",
       "      <td>receiv</td>\n",
       "      <td>292.2</td>\n",
       "      <td>didnt</td>\n",
       "      <td>363.3</td>\n",
       "    </tr>\n",
       "    <tr>\n",
       "      <th>6</th>\n",
       "      <td>took</td>\n",
       "      <td>98.5</td>\n",
       "      <td>two</td>\n",
       "      <td>265.8</td>\n",
       "      <td>yet</td>\n",
       "      <td>362.8</td>\n",
       "    </tr>\n",
       "    <tr>\n",
       "      <th>7</th>\n",
       "      <td>defect</td>\n",
       "      <td>93.6</td>\n",
       "      <td>qualiti</td>\n",
       "      <td>219.3</td>\n",
       "      <td>store</td>\n",
       "      <td>322.9</td>\n",
       "    </tr>\n",
       "    <tr>\n",
       "      <th>8</th>\n",
       "      <td>product</td>\n",
       "      <td>84.6</td>\n",
       "      <td>like</td>\n",
       "      <td>209.8</td>\n",
       "      <td>deliveri</td>\n",
       "      <td>313.3</td>\n",
       "    </tr>\n",
       "    <tr>\n",
       "      <th>9</th>\n",
       "      <td>broken</td>\n",
       "      <td>82.6</td>\n",
       "      <td>miss</td>\n",
       "      <td>167.1</td>\n",
       "      <td>wait</td>\n",
       "      <td>303.8</td>\n",
       "    </tr>\n",
       "  </tbody>\n",
       "</table>\n",
       "</div>"
      ],
      "text/plain": [
       "  Topic 0 words Topic 0 weights Topic 1 words Topic 1 weights Topic 2 words  \\\n",
       "0      deliveri           329.2       product           812.0       product   \n",
       "1          came           194.6          good           473.7        receiv   \n",
       "2         delay           165.1           one           466.9         deliv   \n",
       "3          long           162.7        bought           447.0         arriv   \n",
       "4          time           149.7          came           392.4       purchas   \n",
       "5           bad           101.8        receiv           292.2         didnt   \n",
       "6          took            98.5           two           265.8           yet   \n",
       "7        defect            93.6       qualiti           219.3         store   \n",
       "8       product            84.6          like           209.8      deliveri   \n",
       "9        broken            82.6          miss           167.1          wait   \n",
       "\n",
       "  Topic 2 weights  \n",
       "0          2109.4  \n",
       "1          1331.9  \n",
       "2           820.1  \n",
       "3           491.6  \n",
       "4           377.7  \n",
       "5           363.3  \n",
       "6           362.8  \n",
       "7           322.9  \n",
       "8           313.3  \n",
       "9           303.8  "
      ]
     },
     "execution_count": 80,
     "metadata": {},
     "output_type": "execute_result"
    }
   ],
   "source": [
    "no_top_words = 10\n",
    "display_topics(model_lda_neg2, cv_feature_names, no_top_words)"
   ]
  },
  {
   "cell_type": "markdown",
   "metadata": {},
   "source": [
    "We need to put each document in smaller dimension - then similarity is avaliable"
   ]
  },
  {
   "cell_type": "markdown",
   "metadata": {},
   "source": [
    "### Other approach - clustering"
   ]
  },
  {
   "cell_type": "markdown",
   "metadata": {},
   "source": [
    "First basic - just run kmeans"
   ]
  },
  {
   "cell_type": "code",
   "execution_count": 81,
   "metadata": {},
   "outputs": [],
   "source": [
    "from sklearn.cluster import MiniBatchKMeans"
   ]
  },
  {
   "cell_type": "code",
   "execution_count": 82,
   "metadata": {},
   "outputs": [],
   "source": [
    "km1 = MiniBatchKMeans(n_clusters = 3)"
   ]
  },
  {
   "cell_type": "code",
   "execution_count": 83,
   "metadata": {},
   "outputs": [
    {
     "data": {
      "text/plain": [
       "MiniBatchKMeans(n_clusters=3)"
      ]
     },
     "execution_count": 83,
     "metadata": {},
     "output_type": "execute_result"
    }
   ],
   "source": [
    "km1.fit(to_model3_pos)"
   ]
  },
  {
   "cell_type": "code",
   "execution_count": 84,
   "metadata": {},
   "outputs": [
    {
     "data": {
      "text/plain": [
       "<100000x7867 sparse matrix of type '<class 'numpy.float64'>'\n",
       "\twith 264744 stored elements in Compressed Sparse Row format>"
      ]
     },
     "execution_count": 84,
     "metadata": {},
     "output_type": "execute_result"
    }
   ],
   "source": [
    "to_model3"
   ]
  },
  {
   "cell_type": "code",
   "execution_count": 85,
   "metadata": {},
   "outputs": [
    {
     "data": {
      "text/plain": [
       "array([0, 0, 0, ..., 0, 0, 0], dtype=int32)"
      ]
     },
     "execution_count": 85,
     "metadata": {},
     "output_type": "execute_result"
    }
   ],
   "source": [
    "km1.predict(to_model3_pos)"
   ]
  },
  {
   "cell_type": "code",
   "execution_count": 86,
   "metadata": {},
   "outputs": [],
   "source": [
    "# 1. Tf-idf matrix ok\n",
    "# 2. features names ok\n",
    "# 3. PCA plot ok\n",
    "# PCA to x components (50?) ok\n",
    "# TSNE to 2 components - not possible\n",
    "# Plot tsne - not posible\n",
    "# kmeans on SVD\n",
    "# Example text for each cluster"
   ]
  },
  {
   "cell_type": "code",
   "execution_count": 87,
   "metadata": {},
   "outputs": [
    {
     "data": {
      "text/plain": [
       "<100000x7867 sparse matrix of type '<class 'numpy.float64'>'\n",
       "\twith 264744 stored elements in Compressed Sparse Row format>"
      ]
     },
     "execution_count": 87,
     "metadata": {},
     "output_type": "execute_result"
    }
   ],
   "source": [
    "to_model3"
   ]
  },
  {
   "cell_type": "code",
   "execution_count": 88,
   "metadata": {},
   "outputs": [
    {
     "data": {
      "text/plain": [
       "['aa',\n",
       " 'aaa',\n",
       " 'aaaaaaaaaaaaaaaaaaaaaaaaaaaaaaaaaaaaaaaaaaaaaaaaaaaaaa',\n",
       " 'aancheira',\n",
       " 'ab']"
      ]
     },
     "execution_count": 88,
     "metadata": {},
     "output_type": "execute_result"
    }
   ],
   "source": [
    "cv_feature_names[:5]"
   ]
  },
  {
   "cell_type": "code",
   "execution_count": 89,
   "metadata": {},
   "outputs": [],
   "source": [
    "from sklearn.decomposition import TruncatedSVD"
   ]
  },
  {
   "cell_type": "code",
   "execution_count": 90,
   "metadata": {},
   "outputs": [],
   "source": [
    "svd = TruncatedSVD(n_components = 200).fit(to_model3)"
   ]
  },
  {
   "cell_type": "code",
   "execution_count": 91,
   "metadata": {},
   "outputs": [
    {
     "data": {
      "image/png": "[encoded data removed]",
      "text/plain": [
       "<Figure size 432x288 with 1 Axes>"
      ]
     },
     "metadata": {
      "needs_background": "light"
     },
     "output_type": "display_data"
    }
   ],
   "source": [
    "plt.plot(np.cumsum(svd.explained_variance_ratio_))\n",
    "plt.xlabel('number of components')\n",
    "plt.ylabel('cumulative explained variance');"
   ]
  },
  {
   "cell_type": "markdown",
   "metadata": {},
   "source": [
    "With 200 components we get 0.8 explained variance - not bad (input has 7867)"
   ]
  },
  {
   "cell_type": "markdown",
   "metadata": {},
   "source": [
    "TSNE is resource intensive, limiting no. to 100"
   ]
  },
  {
   "cell_type": "code",
   "execution_count": 92,
   "metadata": {},
   "outputs": [],
   "source": [
    "from sklearn.manifold import TSNE"
   ]
  },
  {
   "cell_type": "code",
   "execution_count": 94,
   "metadata": {},
   "outputs": [],
   "source": [
    "#tsne = TSNE(n_jobs = -1).fit_transform(TruncatedSVD(n_components = 20).fit_transform(to_model3))"
   ]
  },
  {
   "cell_type": "code",
   "execution_count": 116,
   "metadata": {},
   "outputs": [],
   "source": [
    "# look for optimal no of clusters\n",
    "def find_optimal_clusters(data, max_k):\n",
    "    iters = range(2, max_k+1, 2)\n",
    "    \n",
    "    sse = []\n",
    "    for k in iters:\n",
    "        sse.append(MiniBatchKMeans(n_clusters=k, init_size=1024, batch_size=2048, random_state=20).fit(data).inertia_)\n",
    "        print('Fit {} clusters'.format(k))\n",
    "        \n",
    "    f, ax = plt.subplots(1, 1)\n",
    "    ax.plot(iters, sse, marker='o')\n",
    "    ax.set_xlabel('Cluster Centers')\n",
    "    ax.set_xticks(iters)\n",
    "    ax.set_xticklabels(iters)\n",
    "    ax.set_ylabel('SSE')\n",
    "    ax.set_title('SSE by Cluster Center Plot')\n",
    "    \n",
    "# find_optimal_clusters(text, 10)"
   ]
  },
  {
   "cell_type": "code",
   "execution_count": 113,
   "metadata": {},
   "outputs": [],
   "source": [
    "svd_out = svd.transform(to_model3)"
   ]
  },
  {
   "cell_type": "code",
   "execution_count": 117,
   "metadata": {},
   "outputs": [
    {
     "name": "stdout",
     "output_type": "stream",
     "text": [
      "Fit 2 clusters\n",
      "Fit 4 clusters\n",
      "Fit 6 clusters\n",
      "Fit 8 clusters\n",
      "Fit 10 clusters\n"
     ]
    },
    {
     "data": {
      "image/png": "[encoded data removed]",
      "text/plain": [
       "<Figure size 432x288 with 1 Axes>"
      ]
     },
     "metadata": {
      "needs_background": "light"
     },
     "output_type": "display_data"
    }
   ],
   "source": [
    "find_optimal_clusters(svd_out, 10)"
   ]
  },
  {
   "cell_type": "markdown",
   "metadata": {},
   "source": [
    "Best are 10 clusters. Trying 2"
   ]
  },
  {
   "cell_type": "code",
   "execution_count": 118,
   "metadata": {},
   "outputs": [],
   "source": [
    "km1 = MiniBatchKMeans(n_clusters=2, init_size=1024, batch_size=2048, random_state=20).fit_predict(to_model3)"
   ]
  },
  {
   "cell_type": "code",
   "execution_count": 120,
   "metadata": {},
   "outputs": [
    {
     "data": {
      "text/plain": [
       "0.82237"
      ]
     },
     "execution_count": 120,
     "metadata": {},
     "output_type": "execute_result"
    }
   ],
   "source": [
    "km1.mean()"
   ]
  },
  {
   "cell_type": "code",
   "execution_count": 126,
   "metadata": {},
   "outputs": [
    {
     "data": {
      "text/plain": [
       "(array([   15,    27,    32, ..., 99812, 99865, 99939]),)"
      ]
     },
     "execution_count": 126,
     "metadata": {},
     "output_type": "execute_result"
    }
   ],
   "source": [
    "np.where(km1==0)"
   ]
  },
  {
   "cell_type": "code",
   "execution_count": 135,
   "metadata": {},
   "outputs": [
    {
     "data": {
      "text/plain": [
       "['Reliable seller, ok product and delivery before the deadline.',\n",
       " 'The purchase was made easily. The delivery was made well before the given deadline. The product has already started to be used and to date, without problems.',\n",
       " 'I always buy over the Internet and delivery takes place before the agreed deadline, which I believe is the maximum period. At stark, the maximum term has expired and I have not yet received the product.',\n",
       " 'great seller arrived before the deadline, I loved the product',\n",
       " 'Great store for partnership: very fast, well packaged and quality products! Only the cost of shipping that was a little sour.',\n",
       " 'The product did not arrive within the stipulated time and caused inconvenience, because I scheduled my son&#39;s vacation trip, based on the deadline. I live in Bahia and he in Cuiabá alone. Now, the house is empty.',\n",
       " 'Product delivered as requested, and very soon. Congratulations!',\n",
       " 'Good product, but what came to me does not match the photo in the ad.',\n",
       " 'Very inferior product, badly finished.',\n",
       " 'Product arrived, but my PC was unable to recognize the USB ports.']"
      ]
     },
     "execution_count": 135,
     "metadata": {},
     "output_type": "execute_result"
    }
   ],
   "source": [
    "list(to_model[np.where(km1==0,True, False)].head(10).message_en)"
   ]
  },
  {
   "cell_type": "code",
   "execution_count": 137,
   "metadata": {},
   "outputs": [
    {
     "data": {
      "text/plain": [
       "['',\n",
       " '',\n",
       " '',\n",
       " 'I received it well before the deadline.',\n",
       " 'Congratulations lannister stores loved shopping online safe and practical Congratulations to all happy Easter',\n",
       " '',\n",
       " '',\n",
       " '',\n",
       " '',\n",
       " 'efficient device. on the website the brand of the device is printed as 3desinfector and when it arrives with another name ... update with the correct brand since it is the same device',\n",
       " '',\n",
       " '',\n",
       " 'But a little, braking ... for the value ta Boa.',\n",
       " '',\n",
       " '',\n",
       " 'I WOULD LIKE TO KNOW WHAT HAS BEEN, I ALWAYS RECEIVED AND THIS PURCHASE NOW HAS DISCUSSED',\n",
       " '',\n",
       " '',\n",
       " 'Terrible',\n",
       " '']"
      ]
     },
     "execution_count": 137,
     "metadata": {},
     "output_type": "execute_result"
    }
   ],
   "source": [
    "list(to_model[np.where(km1==1,True, False)].head(20).message_en)"
   ]
  },
  {
   "cell_type": "markdown",
   "metadata": {},
   "source": [
    "Looks like second cluster is mmostly about empties. Try removing that"
   ]
  },
  {
   "cell_type": "code",
   "execution_count": 141,
   "metadata": {},
   "outputs": [
    {
     "data": {
      "text/plain": [
       "(array([    3,     4,     9, ..., 99996, 99998, 99999]),)"
      ]
     },
     "execution_count": 141,
     "metadata": {},
     "output_type": "execute_result"
    }
   ],
   "source": []
  },
  {
   "cell_type": "code",
   "execution_count": 147,
   "metadata": {},
   "outputs": [
    {
     "data": {
      "text/plain": [
       "<41753x7867 sparse matrix of type '<class 'numpy.float64'>'\n",
       "\twith 264744 stored elements in Compressed Sparse Row format>"
      ]
     },
     "execution_count": 147,
     "metadata": {},
     "output_type": "execute_result"
    }
   ],
   "source": [
    "to_model3[np.where(to_model.message_en != '', True, False),:]"
   ]
  },
  {
   "cell_type": "code",
   "execution_count": null,
   "metadata": {},
   "outputs": [],
   "source": []
  },
  {
   "cell_type": "code",
   "execution_count": 148,
   "metadata": {},
   "outputs": [],
   "source": [
    "svd2 = TruncatedSVD(n_components = 200).fit(to_model3[np.where(to_model.message_en != '', True, False),:])"
   ]
  },
  {
   "cell_type": "code",
   "execution_count": 149,
   "metadata": {},
   "outputs": [],
   "source": [
    "svd_out2 = svd2.transform(to_model3[np.where(to_model.message_en != '', True, False),:])"
   ]
  },
  {
   "cell_type": "code",
   "execution_count": 150,
   "metadata": {},
   "outputs": [
    {
     "name": "stdout",
     "output_type": "stream",
     "text": [
      "Fit 2 clusters\n",
      "Fit 4 clusters\n",
      "Fit 6 clusters\n",
      "Fit 8 clusters\n",
      "Fit 10 clusters\n"
     ]
    },
    {
     "data": {
      "image/png": "[encoded data removed]",
      "text/plain": [
       "<Figure size 432x288 with 1 Axes>"
      ]
     },
     "metadata": {
      "needs_background": "light"
     },
     "output_type": "display_data"
    }
   ],
   "source": [
    "find_optimal_clusters(svd_out2, 10)"
   ]
  },
  {
   "cell_type": "markdown",
   "metadata": {},
   "source": [
    "Best are 10 clusters. Trying 2"
   ]
  },
  {
   "cell_type": "code",
   "execution_count": 151,
   "metadata": {},
   "outputs": [],
   "source": [
    "km1 = MiniBatchKMeans(n_clusters=2, init_size=1024, batch_size=2048, random_state=20).fit_predict(to_model3[np.where(to_model.message_en != '', True, False),:])"
   ]
  },
  {
   "cell_type": "code",
   "execution_count": 152,
   "metadata": {},
   "outputs": [
    {
     "data": {
      "text/plain": [
       "0.4297176250808325"
      ]
     },
     "execution_count": 152,
     "metadata": {},
     "output_type": "execute_result"
    }
   ],
   "source": [
    "km1.mean()"
   ]
  },
  {
   "cell_type": "code",
   "execution_count": 157,
   "metadata": {},
   "outputs": [
    {
     "data": {
      "text/plain": [
       "array([False, False, False, ..., False,  True,  True])"
      ]
     },
     "execution_count": 157,
     "metadata": {},
     "output_type": "execute_result"
    }
   ],
   "source": [
    "np.where(to_model.message_en != '', True, False)"
   ]
  },
  {
   "cell_type": "code",
   "execution_count": 159,
   "metadata": {},
   "outputs": [
    {
     "data": {
      "text/html": [
       "<div>\n",
       "<style scoped>\n",
       "    .dataframe tbody tr th:only-of-type {\n",
       "        vertical-align: middle;\n",
       "    }\n",
       "\n",
       "    .dataframe tbody tr th {\n",
       "        vertical-align: top;\n",
       "    }\n",
       "\n",
       "    .dataframe thead th {\n",
       "        text-align: right;\n",
       "    }\n",
       "</style>\n",
       "<table border=\"1\" class=\"dataframe\">\n",
       "  <thead>\n",
       "    <tr style=\"text-align: right;\">\n",
       "      <th></th>\n",
       "      <th>positive</th>\n",
       "      <th>message_en</th>\n",
       "      <th>text</th>\n",
       "    </tr>\n",
       "  </thead>\n",
       "  <tbody>\n",
       "    <tr>\n",
       "      <th>3</th>\n",
       "      <td>1</td>\n",
       "      <td>I received it well before the deadline.</td>\n",
       "      <td>receiv well deadlin</td>\n",
       "    </tr>\n",
       "    <tr>\n",
       "      <th>4</th>\n",
       "      <td>1</td>\n",
       "      <td>Congratulations lannister stores loved shoppin...</td>\n",
       "      <td>congratul lannist store love shop onlin safe p...</td>\n",
       "    </tr>\n",
       "    <tr>\n",
       "      <th>9</th>\n",
       "      <td>1</td>\n",
       "      <td>efficient device. on the website the brand of ...</td>\n",
       "      <td>effici devic websit brand devic print desinfec...</td>\n",
       "    </tr>\n",
       "    <tr>\n",
       "      <th>12</th>\n",
       "      <td>1</td>\n",
       "      <td>But a little, braking ... for the value ta Boa.</td>\n",
       "      <td>littl brake  valu ta boa</td>\n",
       "    </tr>\n",
       "    <tr>\n",
       "      <th>15</th>\n",
       "      <td>1</td>\n",
       "      <td>Reliable seller, ok product and delivery befor...</td>\n",
       "      <td>reliabl seller ok product deliveri deadlin</td>\n",
       "    </tr>\n",
       "    <tr>\n",
       "      <th>...</th>\n",
       "      <td>...</td>\n",
       "      <td>...</td>\n",
       "      <td>...</td>\n",
       "    </tr>\n",
       "    <tr>\n",
       "      <th>99983</th>\n",
       "      <td>1</td>\n",
       "      <td>Entregou dentro do prazo. O produto chegou em ...</td>\n",
       "      <td>entregou dentro prazo produto chegou em condi ...</td>\n",
       "    </tr>\n",
       "    <tr>\n",
       "      <th>99990</th>\n",
       "      <td>0</td>\n",
       "      <td>O produto não foi enviado com NF, não existe v...</td>\n",
       "      <td>produto foi enviado com nf exist venda sem nf ...</td>\n",
       "    </tr>\n",
       "    <tr>\n",
       "      <th>99996</th>\n",
       "      <td>1</td>\n",
       "      <td>Excelente mochila, entrega super rápida. Super...</td>\n",
       "      <td>excelent mochila entrega super rpida super rec...</td>\n",
       "    </tr>\n",
       "    <tr>\n",
       "      <th>99998</th>\n",
       "      <td>0</td>\n",
       "      <td>Solicitei a compra de uma capa de retrovisor c...</td>\n",
       "      <td>solicitei compra de uma capa de retrovisor cel...</td>\n",
       "    </tr>\n",
       "    <tr>\n",
       "      <th>99999</th>\n",
       "      <td>0</td>\n",
       "      <td>meu produto chegou e ja tenho que devolver, po...</td>\n",
       "      <td>meu produto chegou e ja tenho que devolv poi e...</td>\n",
       "    </tr>\n",
       "  </tbody>\n",
       "</table>\n",
       "<p>41753 rows × 3 columns</p>\n",
       "</div>"
      ],
      "text/plain": [
       "       positive                                         message_en  \\\n",
       "3             1            I received it well before the deadline.   \n",
       "4             1  Congratulations lannister stores loved shoppin...   \n",
       "9             1  efficient device. on the website the brand of ...   \n",
       "12            1    But a little, braking ... for the value ta Boa.   \n",
       "15            1  Reliable seller, ok product and delivery befor...   \n",
       "...         ...                                                ...   \n",
       "99983         1  Entregou dentro do prazo. O produto chegou em ...   \n",
       "99990         0  O produto não foi enviado com NF, não existe v...   \n",
       "99996         1  Excelente mochila, entrega super rápida. Super...   \n",
       "99998         0  Solicitei a compra de uma capa de retrovisor c...   \n",
       "99999         0  meu produto chegou e ja tenho que devolver, po...   \n",
       "\n",
       "                                                    text  \n",
       "3                                    receiv well deadlin  \n",
       "4      congratul lannist store love shop onlin safe p...  \n",
       "9      effici devic websit brand devic print desinfec...  \n",
       "12                              littl brake  valu ta boa  \n",
       "15            reliabl seller ok product deliveri deadlin  \n",
       "...                                                  ...  \n",
       "99983  entregou dentro prazo produto chegou em condi ...  \n",
       "99990  produto foi enviado com nf exist venda sem nf ...  \n",
       "99996  excelent mochila entrega super rpida super rec...  \n",
       "99998  solicitei compra de uma capa de retrovisor cel...  \n",
       "99999  meu produto chegou e ja tenho que devolv poi e...  \n",
       "\n",
       "[41753 rows x 3 columns]"
      ]
     },
     "execution_count": 159,
     "metadata": {},
     "output_type": "execute_result"
    }
   ],
   "source": [
    "to_model[np.where(to_model.message_en != '', True, False)]"
   ]
  },
  {
   "cell_type": "code",
   "execution_count": 161,
   "metadata": {},
   "outputs": [
    {
     "data": {
      "text/plain": [
       "['I received it well before the deadline.',\n",
       " 'Congratulations lannister stores loved shopping online safe and practical Congratulations to all happy Easter',\n",
       " 'efficient device. on the website the brand of the device is printed as 3desinfector and when it arrives with another name ... update with the correct brand since it is the same device',\n",
       " 'But a little, braking ... for the value ta Boa.',\n",
       " 'I WOULD LIKE TO KNOW WHAT HAS BEEN, I ALWAYS RECEIVED AND THIS PURCHASE NOW HAS DISCUSSED',\n",
       " 'Terrible',\n",
       " 'Store note 10',\n",
       " 'thank you for your kind attention',\n",
       " 'very beautiful and cheap watch.',\n",
       " 'Did not like ! I bought a pig in a poke']"
      ]
     },
     "execution_count": 161,
     "metadata": {},
     "output_type": "execute_result"
    }
   ],
   "source": [
    "list(to_model[np.where(to_model.message_en != '', True, False)][np.where(km1==0,True, False)].head(10).message_en)"
   ]
  },
  {
   "cell_type": "code",
   "execution_count": 162,
   "metadata": {},
   "outputs": [
    {
     "data": {
      "text/plain": [
       "['Reliable seller, ok product and delivery before the deadline.',\n",
       " 'The purchase was made easily. The delivery was made well before the given deadline. The product has already started to be used and to date, without problems.',\n",
       " 'I always buy over the Internet and delivery takes place before the agreed deadline, which I believe is the maximum period. At stark, the maximum term has expired and I have not yet received the product.',\n",
       " 'great seller arrived before the deadline, I loved the product',\n",
       " 'Great store for partnership: very fast, well packaged and quality products! Only the cost of shipping that was a little sour.',\n",
       " 'The product did not arrive within the stipulated time and caused inconvenience, because I scheduled my son&#39;s vacation trip, based on the deadline. I live in Bahia and he in Cuiabá alone. Now, the house is empty.',\n",
       " 'Product delivered as requested, and very soon. Congratulations!',\n",
       " 'Good product, but what came to me does not match the photo in the ad.',\n",
       " 'Very inferior product, badly finished.',\n",
       " 'Product arrived, but my PC was unable to recognize the USB ports.']"
      ]
     },
     "execution_count": 162,
     "metadata": {},
     "output_type": "execute_result"
    }
   ],
   "source": [
    "list(to_model[np.where(to_model.message_en != '', True, False)][np.where(km1==1,True, False)].head(10).message_en)"
   ]
  },
  {
   "cell_type": "markdown",
   "metadata": {},
   "source": [
    "SHIT"
   ]
  },
  {
   "cell_type": "markdown",
   "metadata": {},
   "source": [
    "# esddef\n"
   ]
  },
  {
   "cell_type": "code",
   "execution_count": 95,
   "metadata": {},
   "outputs": [],
   "source": [
    "import numpy as np\n",
    "import pandas as pd\n",
    "import matplotlib.pyplot as plt\n",
    "import matplotlib.cm as cm\n",
    "\n",
    "from sklearn.cluster import MiniBatchKMeans\n",
    "from sklearn.feature_extraction.text import TfidfVectorizer\n",
    "from sklearn.decomposition import PCA\n",
    "from sklearn.manifold import TSNE\n",
    "\n",
    "text = to_model3_pos"
   ]
  },
  {
   "cell_type": "code",
   "execution_count": 97,
   "metadata": {},
   "outputs": [
    {
     "data": {
      "image/png": "[encoded data removed]",
      "text/plain": [
       "<Figure size 1008x432 with 2 Axes>"
      ]
     },
     "metadata": {
      "needs_background": "light"
     },
     "output_type": "display_data"
    }
   ],
   "source": [
    "# set k to 6\n",
    "km1 = MiniBatchKMeans(n_clusters=3, init_size=1024, batch_size=2048, random_state=20).fit_predict(text)\n",
    "\n",
    "# plot the output\n",
    "# PCA is better at capturing global structure of the data\n",
    "# TSNE is better at capturing relations between neighbors\n",
    "# sample from 3,000 documents and perform a PCA 50 dimension reduction on the data\n",
    "# next we show a scatterplot further sampling the sample down to 300 pts\n",
    "def plot_tsne_pca(data, labels):\n",
    "    max_label = max(labels)\n",
    "    max_items = np.random.choice(range(data.shape[0]), size=3000, replace=False)\n",
    "    \n",
    "    pca = PCA(n_components=2).fit_transform(data[max_items,:].todense())\n",
    "    tsne = TSNE().fit_transform(PCA(n_components=50).fit_transform(data[max_items,:].todense()))\n",
    "    \n",
    "    \n",
    "    idx = np.random.choice(range(pca.shape[0]), size=300, replace=False)\n",
    "    label_subset = labels[max_items]\n",
    "    label_subset = [cm.hsv(i/max_label) for i in label_subset[idx]]\n",
    "    \n",
    "    f, ax = plt.subplots(1, 2, figsize=(14, 6))\n",
    "    \n",
    "    ax[0].scatter(pca[idx, 0], pca[idx, 1], c=label_subset)\n",
    "    ax[0].set_title('PCA Cluster Plot')\n",
    "    \n",
    "    ax[1].scatter(tsne[idx, 0], tsne[idx, 1], c=label_subset)\n",
    "    ax[1].set_title('TSNE Cluster Plot')\n",
    "    \n",
    "plot_tsne_pca(text, km1)"
   ]
  },
  {
   "cell_type": "code",
   "execution_count": 98,
   "metadata": {},
   "outputs": [
    {
     "data": {
      "text/plain": [
       "(76620,)"
      ]
     },
     "execution_count": 98,
     "metadata": {},
     "output_type": "execute_result"
    }
   ],
   "source": [
    "km1.shape"
   ]
  },
  {
   "cell_type": "code",
   "execution_count": 99,
   "metadata": {},
   "outputs": [
    {
     "name": "stdout",
     "output_type": "stream",
     "text": [
      "\n",
      "Cluster 0\n",
      "congratul,deliv,servic,satisfi,excel,deadlin,arriv,like,everyth,beauti,store,fast,great,deliveri,recommend\n",
      "\n",
      "Cluster 1\n",
      "bargain,fragrant,expect,aspect,thank,excel,deliveri,deadlin,order,recommend,qualiti,fast,arriv,product,good\n",
      "\n",
      "Cluster 2\n",
      "excel,fast,good,perfect,receiv,well,recommend,qualiti,time,deliv,great,arriv,deadlin,deliveri,product\n"
     ]
    }
   ],
   "source": [
    "# top keywords based on their TFIDF score to see if we can spot any trends\n",
    "def get_top_keywords(data, clusters, labels, n_terms):\n",
    "    df = pd.DataFrame(data.todense()).groupby(clusters).mean()\n",
    "    \n",
    "    for i,r in df.iterrows():\n",
    "        print('\\nCluster {}'.format(i))\n",
    "        print(','.join([labels[t] for t in np.argsort(r)[-n_terms:]]))\n",
    "            \n",
    "get_top_keywords(text[:1000,:], km1[:1000], cv_feature_names, 15)"
   ]
  },
  {
   "cell_type": "markdown",
   "metadata": {},
   "source": [
    "## VADER"
   ]
  },
  {
   "cell_type": "code",
   "execution_count": 100,
   "metadata": {},
   "outputs": [
    {
     "name": "stderr",
     "output_type": "stream",
     "text": [
      "[nltk_data] Downloading package vader_lexicon to /root/nltk_data...\n",
      "[nltk_data]   Package vader_lexicon is already up-to-date!\n"
     ]
    }
   ],
   "source": [
    "# VADER is a VALENCE based sentiment analyzer\n",
    "# Valence based approach taken into consideration the \"intensity\" of a word as opposed to only the polarity (+ve or -ve). For ex. \"Great\" is more treated as more +ve as opposed to \"Good\"\n",
    "# suggested scale\n",
    "# Neutral -0.5 < and > 0.5\n",
    "# Positive >=0.5\n",
    "# Negative <=-0.5\n",
    "\n",
    "import pandas as pd \n",
    "import numpy as np \n",
    "\n",
    "import nltk\n",
    "nltk.download('vader_lexicon')\n",
    "from nltk.sentiment.vader import SentimentIntensityAnalyzer\n",
    "\n",
    "analyser = SentimentIntensityAnalyzer()"
   ]
  },
  {
   "cell_type": "code",
   "execution_count": 101,
   "metadata": {},
   "outputs": [],
   "source": [
    "test_reviews = [x for x in list(to_model.message_en.dropna()) if x != ''][:10]"
   ]
  },
  {
   "cell_type": "code",
   "execution_count": 102,
   "metadata": {},
   "outputs": [
    {
     "name": "stdout",
     "output_type": "stream",
     "text": [
      "I received it well before the deadline.\n",
      "{'neg': 0.0, 'neu': 0.704, 'pos': 0.296, 'compound': 0.2732}\n",
      "----\n",
      "Congratulations lannister stores loved shopping online safe and practical Congratulations to all happy Easter\n",
      "{'neg': 0.0, 'neu': 0.33, 'pos': 0.67, 'compound': 0.9601}\n",
      "----\n",
      "efficient device. on the website the brand of the device is printed as 3desinfector and when it arrives with another name ... update with the correct brand since it is the same device\n",
      "{'neg': 0.0, 'neu': 0.92, 'pos': 0.08, 'compound': 0.4215}\n",
      "----\n",
      "But a little, braking ... for the value ta Boa.\n",
      "{'neg': 0.0, 'neu': 0.769, 'pos': 0.231, 'compound': 0.34}\n",
      "----\n",
      "Reliable seller, ok product and delivery before the deadline.\n",
      "{'neg': 0.0, 'neu': 0.784, 'pos': 0.216, 'compound': 0.296}\n",
      "----\n",
      "I WOULD LIKE TO KNOW WHAT HAS BEEN, I ALWAYS RECEIVED AND THIS PURCHASE NOW HAS DISCUSSED\n",
      "{'neg': 0.0, 'neu': 0.848, 'pos': 0.152, 'compound': 0.3612}\n",
      "----\n",
      "Terrible\n",
      "{'neg': 1.0, 'neu': 0.0, 'pos': 0.0, 'compound': -0.4767}\n",
      "----\n",
      "Store note 10\n",
      "{'neg': 0.0, 'neu': 1.0, 'pos': 0.0, 'compound': 0.0}\n",
      "----\n",
      "thank you for your kind attention\n",
      "{'neg': 0.0, 'neu': 0.404, 'pos': 0.596, 'compound': 0.7096}\n",
      "----\n",
      "The purchase was made easily. The delivery was made well before the given deadline. The product has already started to be used and to date, without problems.\n",
      "{'neg': 0.0, 'neu': 0.78, 'pos': 0.22, 'compound': 0.6964}\n",
      "----\n"
     ]
    }
   ],
   "source": [
    "for i in test_reviews:\n",
    "    print(i)\n",
    "    print(analyser.polarity_scores(i))\n",
    "    print('----')"
   ]
  },
  {
   "cell_type": "code",
   "execution_count": 103,
   "metadata": {},
   "outputs": [
    {
     "data": {
      "text/plain": [
       "{'neg': 0.0, 'neu': 0.704, 'pos': 0.296, 'compound': 0.2732}"
      ]
     },
     "execution_count": 103,
     "metadata": {},
     "output_type": "execute_result"
    }
   ],
   "source": [
    "analyser.polarity_scores('I received it well before the deadline.')"
   ]
  },
  {
   "cell_type": "code",
   "execution_count": 104,
   "metadata": {},
   "outputs": [
    {
     "data": {
      "text/plain": [
       "{'neg': 0.0, 'neu': 1.0, 'pos': 0.0, 'compound': 0.0}"
      ]
     },
     "execution_count": 104,
     "metadata": {},
     "output_type": "execute_result"
    }
   ],
   "source": [
    "analyser.polarity_scores('Store note 10')"
   ]
  },
  {
   "cell_type": "code",
   "execution_count": null,
   "metadata": {},
   "outputs": [],
   "source": []
  },
  {
   "cell_type": "code",
   "execution_count": 105,
   "metadata": {},
   "outputs": [
    {
     "ename": "NameError",
     "evalue": "name 'sentences' is not defined",
     "output_type": "error",
     "traceback": [
      "\u001b[0;31m---------------------------------------------------------------------------\u001b[0m",
      "\u001b[0;31mNameError\u001b[0m                                 Traceback (most recent call last)",
      "\u001b[0;32m<ipython-input-105-5c96c1e025cb>\u001b[0m in \u001b[0;36m<module>\u001b[0;34m\u001b[0m\n\u001b[1;32m      1\u001b[0m \u001b[0mcompval1\u001b[0m \u001b[0;34m=\u001b[0m \u001b[0;34m[\u001b[0m \u001b[0;34m]\u001b[0m \u001b[0;31m# empty list to hold our computed 'compound' VADER scores\u001b[0m\u001b[0;34m\u001b[0m\u001b[0;34m\u001b[0m\u001b[0m\n\u001b[1;32m      2\u001b[0m \u001b[0;34m\u001b[0m\u001b[0m\n\u001b[0;32m----> 3\u001b[0;31m \u001b[0;32mwhile\u001b[0m \u001b[0;34m(\u001b[0m\u001b[0mi\u001b[0m\u001b[0;34m<\u001b[0m\u001b[0mlen\u001b[0m\u001b[0;34m(\u001b[0m\u001b[0msentences\u001b[0m\u001b[0;34m)\u001b[0m\u001b[0;34m)\u001b[0m\u001b[0;34m:\u001b[0m\u001b[0;34m\u001b[0m\u001b[0;34m\u001b[0m\u001b[0m\n\u001b[0m\u001b[1;32m      4\u001b[0m     \u001b[0mk\u001b[0m \u001b[0;34m=\u001b[0m \u001b[0manalyser\u001b[0m\u001b[0;34m.\u001b[0m\u001b[0mpolarity_scores\u001b[0m\u001b[0;34m(\u001b[0m\u001b[0msentences\u001b[0m\u001b[0;34m.\u001b[0m\u001b[0miloc\u001b[0m\u001b[0;34m[\u001b[0m\u001b[0mi\u001b[0m\u001b[0;34m]\u001b[0m\u001b[0;34m[\u001b[0m\u001b[0;34m'text'\u001b[0m\u001b[0;34m]\u001b[0m\u001b[0;34m)\u001b[0m\u001b[0;34m\u001b[0m\u001b[0;34m\u001b[0m\u001b[0m\n\u001b[1;32m      5\u001b[0m     \u001b[0mcompval1\u001b[0m\u001b[0;34m.\u001b[0m\u001b[0mappend\u001b[0m\u001b[0;34m(\u001b[0m\u001b[0mk\u001b[0m\u001b[0;34m[\u001b[0m\u001b[0;34m'compound'\u001b[0m\u001b[0;34m]\u001b[0m\u001b[0;34m)\u001b[0m\u001b[0;34m\u001b[0m\u001b[0;34m\u001b[0m\u001b[0m\n",
      "\u001b[0;31mNameError\u001b[0m: name 'sentences' is not defined"
     ]
    }
   ],
   "source": [
    "compval1 = [ ] # empty list to hold our computed 'compound' VADER scores\n",
    "\n",
    "while (i<len(sentences)):\n",
    "    k = analyser.polarity_scores(sentences.iloc[i]['text'])\n",
    "    compval1.append(k['compound'])\n",
    "    i = i+1"
   ]
  },
  {
   "cell_type": "code",
   "execution_count": null,
   "metadata": {},
   "outputs": [],
   "source": [
    "sentences = pd.read_csv('TMSMM_class7_Airline_Tweets.csv')\n",
    "len(sentences)\n",
    "sentences.columns\n",
    "sentences.head()\n",
    "\n",
    "# compare the airlines\n",
    "sentences.groupby(['airline', 'airline_sentiment']).size().unstack().plot(kind='bar',figsize=(11, 5))\n",
    "# how about the tweets?\n",
    "sentences = sentences[['airline_sentiment', 'airline','text' ]]\n",
    "sentences.head()\n",
    "\n",
    "#filtering dataset for United\n",
    "sentences = sentences[sentences['airline']=='United'] \n",
    "print(len(sentences))\n",
    "sentences = sentences.reset_index(drop = True)\n",
    "sentences.head(10)\n",
    "sentences.groupby('airline_sentiment').size().plot(kind='bar')\n",
    "\n",
    "# move to sentiment analysis\n",
    "def print_sentiment_scores(sentence):\n",
    "    snt = analyser.polarity_scores(sentence)  #call the polarity analyzer\n",
    "    print(\"{:-<40} {}\".format(sentence, str(snt)))\n",
    "# compound value scale = -1 to 1 (-ve to +ve)\n",
    "print_sentiment_scores(\"United flight was a bad experience\")\n",
    "\n",
    "get_ipython().run_line_magic('time', '# to calulate the time it takes the algorithm to compute a VADER score')\n",
    "i=0 # counter\n",
    "\n",
    "compval1 = [ ] # empty list to hold our computed 'compound' VADER scores\n",
    "\n",
    "while (i<len(sentences)):\n",
    "    k = analyser.polarity_scores(sentences.iloc[i]['text'])\n",
    "    compval1.append(k['compound'])\n",
    "    i = i+1\n",
    "    \n",
    "# convert sentiment values to numpy for easier usage\n",
    "compval1 = np.array(compval1)\n",
    "len(compval1)\n",
    "sentences['VADER score'] = compval1\n",
    "\n",
    "# how it looks like?\n",
    "sentences.head(30)\n",
    "get_ipython().run_line_magic('time', '')\n",
    "# assign score categories and logic\n",
    "i = 0\n",
    "\n",
    "predicted_value = [ ] # empty series to hold our predicted values\n",
    "\n",
    "while(i<len(sentences)):\n",
    "    if ((sentences.iloc[i]['VADER score'] >= 0.7)):\n",
    "        predicted_value.append('positive')\n",
    "        i = i+1\n",
    "    elif ((sentences.iloc[i]['VADER score'] > 0) & (sentences.iloc[i]['VADER score'] < 0.7)):\n",
    "        predicted_value.append('neutral')\n",
    "        i = i+1\n",
    "    elif ((sentences.iloc[i]['VADER score'] <= 0)):\n",
    "        predicted_value.append('negative')\n",
    "        i = i+1\n",
    "\n",
    "sentences['predicted sentiment'] = predicted_value\n",
    "\n",
    "len(sentences['predicted sentiment'])\n",
    "\n",
    "sentences.head(30)\n",
    "\n",
    "# which classifications were correct?\n",
    "madeit = sentences[sentences['airline_sentiment'] == sentences['predicted sentiment']]\n",
    "\n",
    "len(madeit)/len(sentences)\n",
    "\n",
    "madeit.head(30)\n",
    "\n",
    "sentences.groupby('predicted sentiment').size().plot(kind='bar')\n",
    "\n",
    "# how about wrong predictions?\n",
    "didntmakeit = sentences[sentences['airline_sentiment'] != sentences['predicted sentiment']]\n",
    "\n",
    "didntmakeit.reset_index(drop=True, inplace=True)\n",
    "didntmakeit.head(30)\n",
    "\n",
    "# example mistake\n",
    "didntmakeit.iloc[8]\n",
    "didntmakeit.iloc[8]['text']\n",
    "\n",
    "\n",
    "# In[28]:\n",
    "\n",
    "\n",
    "# some basic visualization\n",
    "from wordcloud import WordCloud,STOPWORDS\n",
    "import matplotlib.pyplot as plt \n",
    "\n",
    "\n",
    "# In[29]:\n",
    "\n",
    "\n",
    "df = madeit[madeit['predicted sentiment']=='negative']\n",
    "\n",
    "words = ' '.join(df['text'])\n",
    "cleaned_word = \" \".join([word for word in words.split()\n",
    "                            if 'http' not in word\n",
    "                                and not word.startswith('@')\n",
    "                                and word != 'RT'\n",
    "                            ])\n",
    "\n",
    "stopwords = set(STOPWORDS)\n",
    "stopwords.add(\"amp\")\n",
    "stopwords.add(\"flight\")\n",
    "stopwords.add(\"united\")\n",
    "stopwords.add(\"plane\")\n",
    "stopwords.add(\"now\")\n",
    "\n",
    "wordcloud = WordCloud(stopwords=stopwords,\n",
    "                      background_color='black',\n",
    "                      width=3000,\n",
    "                      height=2500\n",
    "                     ).generate(cleaned_word)\n",
    "\n",
    "\n",
    "# In[30]:\n",
    "\n",
    "\n",
    "type(cleaned_word)\n",
    "\n",
    "\n",
    "# In[31]:\n",
    "\n",
    "\n",
    "plt.figure(1,figsize=(12, 12))\n",
    "plt.imshow(wordcloud)\n",
    "plt.axis('off')\n",
    "plt.show()\n",
    "\n",
    "\n",
    "# In[32]:\n",
    "\n",
    "\n",
    "df = madeit[madeit['predicted sentiment']=='positive']\n",
    "\n",
    "words = ' '.join(df['text'])\n",
    "cleaned_word = \" \".join([word for word in words.split()\n",
    "                            if 'http' not in word\n",
    "                                and not word.startswith('@')\n",
    "                                and word != 'RT'\n",
    "                                and word !='&amp'\n",
    "                            ])\n",
    "\n",
    "stopwords = set(STOPWORDS)\n",
    "stopwords.add(\"amp\")\n",
    "stopwords.add(\"flight\")\n",
    "stopwords.add(\"flights\")\n",
    "stopwords.add(\"united\")\n",
    "stopwords.add(\"plane\")\n",
    "\n",
    "wordcloud = WordCloud(stopwords=stopwords,\n",
    "                      background_color='black',\n",
    "                      width=3000,\n",
    "                      height=2500\n",
    "                     ).generate(cleaned_word)\n",
    "\n",
    "\n",
    "# In[33]:\n",
    "\n",
    "\n",
    "plt.figure(1,figsize=(12, 12))\n",
    "plt.imshow(wordcloud)\n",
    "plt.axis('off')\n",
    "plt.show()"
   ]
  }
 ],
 "metadata": {
  "kernelspec": {
   "display_name": "Python 3",
   "language": "python",
   "name": "python3"
  },
  "language_info": {
   "codemirror_mode": {
    "name": "ipython",
    "version": 3
   },
   "file_extension": ".py",
   "mimetype": "text/x-python",
   "name": "python",
   "nbconvert_exporter": "python",
   "pygments_lexer": "ipython3",
   "version": "3.8.3"
  }
 },
 "nbformat": 4,
 "nbformat_minor": 4
}
